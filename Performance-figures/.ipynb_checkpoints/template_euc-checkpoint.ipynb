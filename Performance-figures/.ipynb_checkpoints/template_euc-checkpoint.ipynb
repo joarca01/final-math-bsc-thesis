{
 "cells": [
  {
   "cell_type": "code",
   "execution_count": 1,
   "id": "a7d8c8f7",
   "metadata": {},
   "outputs": [
    {
     "name": "stderr",
     "output_type": "stream",
     "text": [
      "/Users/joanarenillascases/.sage/local/lib/python3.9/site-packages/stopit/__init__.py:10: DeprecationWarning: pkg_resources is deprecated as an API. See https://setuptools.pypa.io/en/latest/pkg_resources.html\n",
      "  import pkg_resources\n"
     ]
    }
   ],
   "source": [
    "%run utils.ipynb\n",
    "from sage.all import CyclotomicField\n",
    "from pathlib import Path\n",
    "\n",
    "def ap_euc(k,l):\n",
    "    if not (k.is_integer() and l.is_integer()) or (k <= 0 or l <= 0):\n",
    "        raise ValueError(\"The values for l and k must be positive integers.\")\n",
    "    if gcd(k,l) != 1:\n",
    "        raise ValueError(\"The arithmetic progession considered does not have infinitely many primes since \" + \"gcd(\" + str(l) + \",\" + str(k) + \")\" + \" is not 1.\")\n",
    "    if k < l:\n",
    "        raise ValueError(\"The arithmetic progession considered is equivalent to the progression \" + str(k) + \"n+\" + str(l%k) + \", n>0. To view the proof, try this one instead.\") \n",
    "    if l**2 % k != 1 and k != 1:\n",
    "        raise ValueError(\"The arithmetic progession considered has infinitely many primes. However, an Euclidean proof does not exist since \" + str(l) + \"^2=\"  + str(l**2) + \" is not congruent to 1 (mod \" + str(k) + \").\") \n",
    "    if k == 1:\n",
    "        print(\"A Euclidean proof can be found in the file 'proof_1_mod1.pdf'.\")\n",
    "        return\n",
    "    if k == 2:\n",
    "        print(\"A Euclidean proof can be found in the file 'proof_1_mod2.pdf'.\")\n",
    "        return\n",
    "\n",
    "    d = {}\n",
    "    d['k'] = k\n",
    "    d['ell'] = l\n",
    "    d['coprimes_list'] = coprimes(k)\n",
    "    factored_k = ZZ(k).factor(proof=False)\n",
    "    primes_div_k_list = prime_divisors(factored_k)\n",
    "    d['sufix_cyclo_alt'] = sufix_cyclo(k)\n",
    "    d['eulersphi_k'] = euler_phi(k)\n",
    "\n",
    "    if l%k != 1:\n",
    "        d['coset_reps_list'] = coset_reps(d['coprimes_list'],l,k)\n",
    "        \n",
    "        u = k*1\n",
    "        f_polynomial_roots_list = f_polynomial_roots(l,k,u,d['coset_reps_list'])\n",
    "        multiple = 2\n",
    "        while len(f_polynomial_roots_list) != len(set(f_polynomial_roots_list)):\n",
    "            u = k*multiple\n",
    "            f_polynomial_roots_list =  f_polynomial_roots(l,k,u,coset_reps_list)\n",
    "            multiple += 1\n",
    "        d['u'] = u\n",
    "        \n",
    "        d['poly'] = polynomial(f_polynomial_roots_list)\n",
    "        d['indep_coef_f'] = d['poly'].subs(x=0)\n",
    "\n",
    "        d['factor_indep_coef_f'] = factor_timeout(d['indep_coef_f'])\n",
    "\n",
    "        prime_divisors_indep_coef_f_list = prime_divisors(d['factor_indep_coef_f'])\n",
    "        d['primes_indep_coef_f_list'] = sorted(list(prime_divisors_indep_coef_f_list))\n",
    "\n",
    "        if len(d['primes_indep_coef_f_list']) == 1:\n",
    "            d['is_are_alt'] = 'is'\n",
    "        else:\n",
    "            d['is_are_alt'] = 'are'\n",
    "            \n",
    "        discriminant = d['poly'].discriminant()\n",
    "        factored_discrim = factor_timeout(discriminant)\n",
    "        prime_divisors_disc_list = prime_divisors(factored_discrim)\n",
    "        d['p_exclusions_list'] = sorted(list(set(prime_divisors_disc_list + primes_div_k_list)))\n",
    "        \n",
    "        d['first_prime'] = find_prime(l,k,discriminant)\n",
    "        d['prev_primes_list'] = prev_primes(d['first_prime'], l, k)\n",
    "\n",
    "        if len(d['prev_primes_list']) > 1:\n",
    "            d['prime_div_disc_ext'] = factor_timeout(prod(prime_divisors_disc_list + d['prev_primes_list'][:-1]))\n",
    "        else:\n",
    "            d['prime_div_disc_ext'] = factor_timeout(prod(prime_divisors_disc_list))  \n",
    "        return\n",
    "    \n",
    "    if l%k == 1:\n",
    "        d['coset_reps_list'] = d['coprimes_list']\n",
    "\n",
    "        d['cyclotomic_polynomial'] = cyclotomic_polynomial(k)\n",
    "        discriminant = d['cyclotomic_polynomial'].discriminant()\n",
    "        d['factor_discriminant'] = factor_timeout(discriminant)\n",
    "        return"
   ]
  },
  {
   "cell_type": "code",
   "execution_count": null,
   "id": "0d9d6346-c65a-444c-8324-fc16103d2eb0",
   "metadata": {},
   "outputs": [],
   "source": []
  }
 ],
 "metadata": {
  "kernelspec": {
   "display_name": "SageMath 10.4",
   "language": "sage",
   "name": "sagemath"
  },
  "language_info": {
   "codemirror_mode": {
    "name": "ipython",
    "version": 3
   },
   "file_extension": ".py",
   "mimetype": "text/x-python",
   "name": "python",
   "nbconvert_exporter": "python",
   "pygments_lexer": "ipython3",
   "version": "3.9.20"
  }
 },
 "nbformat": 4,
 "nbformat_minor": 5
}
