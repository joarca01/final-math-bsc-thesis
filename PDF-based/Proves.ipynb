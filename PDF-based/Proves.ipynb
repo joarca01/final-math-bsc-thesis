{
 "cells": [
  {
   "cell_type": "code",
   "execution_count": 7,
   "id": "12cab8ee-e48c-4dc9-ae50-a3b18f09a6c2",
   "metadata": {},
   "outputs": [],
   "source": [
    "%run utils.ipynb\n",
    "from sage.all import CyclotomicField\n",
    "l = 6\n",
    "k = 7\n",
    "d = {}\n",
    "ell = l\n",
    "u=k*1\n",
    "\n",
    "d['k'] = k\n",
    "d['1mesell'] = 1+ell\n",
    "d['ell'] = ell\n",
    "d['eulersphi_k'] = euler_phi(k)\n",
    "d['coprimes_list'] = coprimes(k)\n",
    "d['primes_div_k_list'] = prime_divisors(k)"
   ]
  },
  {
   "cell_type": "code",
   "execution_count": 8,
   "id": "69d5e53e-db3c-4415-a599-4006e66a38be",
   "metadata": {},
   "outputs": [],
   "source": [
    "d['coset_reps_list'] = coset_reps(d['coprimes_list'],l,k)\n",
    "d['num_coset_reps'] = len(d['coset_reps_list'])"
   ]
  },
  {
   "cell_type": "code",
   "execution_count": 9,
   "id": "7a3fa30f-50c2-4022-be2c-f1d5b2bd8cfb",
   "metadata": {},
   "outputs": [
    {
     "data": {
      "text/html": [
       "<html>\\(\\displaystyle \\left[7 ζ^{5} + 7 ζ^{4} + 7 ζ^{3} + 7 ζ^{2} + 57, -7 ζ^{5} - 7 ζ^{2} + 50, -7 ζ^{4} - 7 ζ^{3} + 50\\right]\\)</html>"
      ],
      "text/latex": [
       "$\\displaystyle \\left[7 ζ^{5} + 7 ζ^{4} + 7 ζ^{3} + 7 ζ^{2} + 57, -7 ζ^{5} - 7 ζ^{2} + 50, -7 ζ^{4} - 7 ζ^{3} + 50\\right]$"
      ],
      "text/plain": [
       "[7*ζ^5 + 7*ζ^4 + 7*ζ^3 + 7*ζ^2 + 57, -7*ζ^5 - 7*ζ^2 + 50, -7*ζ^4 - 7*ζ^3 + 50]"
      ]
     },
     "metadata": {},
     "output_type": "display_data"
    }
   ],
   "source": [
    "d['f_polynomial_roots_list'] = f_polynomial_roots(l,k,u,d['coset_reps_list'])\n",
    "show((d['f_polynomial_roots_list']))"
   ]
  },
  {
   "cell_type": "code",
   "execution_count": null,
   "id": "27a1b8d8-d111-4535-ba80-5e397bdfbce0",
   "metadata": {},
   "outputs": [],
   "source": [
    "multiple = 2\n",
    "while len(d['f_polynomial_roots_list']) != len(set(d['f_polynomial_roots_list'])):\n",
    "    u = k*multiple\n",
    "    d['f_polynomial_roots_list'] =  f_polynomial_roots(l,k,u,d['coset_reps_list'])\n",
    "    multiple += 1\n",
    "d['u'] = u"
   ]
  },
  {
   "cell_type": "code",
   "execution_count": null,
   "id": "4e2378b6-30d5-4a73-b831-aea378b7aba4",
   "metadata": {},
   "outputs": [],
   "source": []
  },
  {
   "cell_type": "code",
   "execution_count": 112,
   "id": "fcfdfcb2-2fe3-48f4-b467-ea0a01799898",
   "metadata": {},
   "outputs": [],
   "source": [
    "z = QQ['z'].gen()#CyclotomicField(15, names='zeta').gen()\n",
    "dif = 15*(z^2+z^(4*2))+z^(5*2)-(-15*(z+z^4)+z^5)"
   ]
  },
  {
   "cell_type": "code",
   "execution_count": 114,
   "id": "f59b511f-aa6f-4e57-b209-010cbcb57469",
   "metadata": {},
   "outputs": [],
   "source": [
    "dif = dif.quo_rem(z^15-1)[1]\n",
    "# I fer divisó de dif per Phi_15 per veure que no és 0."
   ]
  },
  {
   "cell_type": "code",
   "execution_count": 107,
   "id": "a6affb7b-07db-4949-aee9-12c4185b59b9",
   "metadata": {},
   "outputs": [
    {
     "data": {
      "text/plain": [
       "1"
      ]
     },
     "execution_count": 107,
     "metadata": {},
     "output_type": "execute_result"
    }
   ],
   "source": [
    "z = CyclotomicField(3, names = 'zeta').gen()\n",
    "z*z^(-1)"
   ]
  },
  {
   "cell_type": "code",
   "execution_count": 42,
   "id": "34ff4ea7-a784-4c27-9cd4-9a223b4a8eb1",
   "metadata": {},
   "outputs": [
    {
     "data": {
      "text/html": [
       "<html>\\(\\displaystyle \\left[2\\right]\\)</html>"
      ],
      "text/latex": [
       "$\\displaystyle \\left[2\\right]$"
      ],
      "text/plain": [
       "[2]"
      ]
     },
     "metadata": {},
     "output_type": "display_data"
    }
   ],
   "source": [
    "coset = coset_reps([1,2], 1, 3)\n",
    "show(coset)"
   ]
  },
  {
   "cell_type": "code",
   "execution_count": 45,
   "id": "b3e263d4-bcd4-4b66-a48f-3d69723e5cd0",
   "metadata": {},
   "outputs": [],
   "source": [
    "roots = f_polynomial_roots(1, 3, 3, coset)"
   ]
  },
  {
   "cell_type": "code",
   "execution_count": 54,
   "id": "2c20201e-f96a-4304-9e71-cb12fdecab3b",
   "metadata": {},
   "outputs": [],
   "source": [
    "def coset_reps(coprimes_list, l, k):\n",
    "    list_aux = coprimes_list.copy()\n",
    "    for i in range(len(list_aux)):\n",
    "        list_aux.remove(mod(list_aux[i]*l,k))\n",
    "        if i == len(list_aux)-1:\n",
    "            return list_aux"
   ]
  },
  {
   "cell_type": "code",
   "execution_count": 55,
   "id": "75882570-f697-4dc3-8830-ea171e1d6a6b",
   "metadata": {},
   "outputs": [
    {
     "data": {
      "text/html": [
       "<html>\\(\\displaystyle \\left[1, 2, 7, 11\\right]\\)</html>"
      ],
      "text/latex": [
       "$\\displaystyle \\left[1, 2, 7, 11\\right]$"
      ],
      "text/plain": [
       "[1, 2, 7, 11]"
      ]
     },
     "metadata": {},
     "output_type": "display_data"
    }
   ],
   "source": [
    "a = coset_reps([1, 2, 4, 7, 8, 11, 13, 14], 4, 15)\n",
    "show(a)"
   ]
  },
  {
   "cell_type": "code",
   "execution_count": 56,
   "id": "52948314-a762-4c55-b6ee-96a2012dd739",
   "metadata": {},
   "outputs": [
    {
     "data": {
      "text/plain": [
       "True"
      ]
     },
     "execution_count": 56,
     "metadata": {},
     "output_type": "execute_result"
    }
   ],
   "source": [
    "41.is_prime()"
   ]
  },
  {
   "cell_type": "code",
   "execution_count": 61,
   "id": "e58b25f9-1941-416f-8b94-dc322b5fae06",
   "metadata": {},
   "outputs": [
    {
     "data": {
      "text/plain": [
       "6"
      ]
     },
     "execution_count": 61,
     "metadata": {},
     "output_type": "execute_result"
    }
   ],
   "source": [
    "mod(-137257,7)"
   ]
  },
  {
   "cell_type": "code",
   "execution_count": 62,
   "id": "5a626abc-4627-4138-86c1-f9bb4e543e40",
   "metadata": {},
   "outputs": [
    {
     "data": {
      "text/plain": [
       "x^6 + x^5 + x^4 + x^3 + x^2 + x + 1"
      ]
     },
     "execution_count": 62,
     "metadata": {},
     "output_type": "execute_result"
    }
   ],
   "source": [
    "cyclotomic_polynomial(7)"
   ]
  },
  {
   "cell_type": "code",
   "execution_count": 72,
   "id": "3b2d8b0a-9aac-4658-bb80-0ba384c68d47",
   "metadata": {},
   "outputs": [],
   "source": [
    "def prev_primes(prime, l, k):\n",
    "    return sorted([prime-i for i in range(0, prime, 1) if ((prime-i) % k == l and (prime-i).is_prime())])"
   ]
  },
  {
   "cell_type": "code",
   "execution_count": 73,
   "id": "1b4a8954-beb3-454b-abe7-97c08608969d",
   "metadata": {},
   "outputs": [
    {
     "data": {
      "text/html": [
       "<html>\\(\\displaystyle \\left[13\\right]\\)</html>"
      ],
      "text/latex": [
       "$\\displaystyle \\left[13\\right]$"
      ],
      "text/plain": [
       "[13]"
      ]
     },
     "metadata": {},
     "output_type": "display_data"
    }
   ],
   "source": [
    "list = prev_primes(13, 6, 7)\n",
    "show(list)"
   ]
  },
  {
   "cell_type": "code",
   "execution_count": 77,
   "id": "fa50b4e4-73d3-4ebf-bcc9-2af5a29b08bb",
   "metadata": {},
   "outputs": [
    {
     "data": {
      "text/plain": [
       "7^3 * 13 * 43"
      ]
     },
     "execution_count": 77,
     "metadata": {},
     "output_type": "execute_result"
    }
   ],
   "source": [
    "factor(191737)"
   ]
  },
  {
   "cell_type": "code",
   "execution_count": 80,
   "id": "d63624a9-0ca2-4e8d-bbf1-2e7ead3fdf18",
   "metadata": {},
   "outputs": [
    {
     "data": {
      "text/plain": [
       "676"
      ]
     },
     "execution_count": 80,
     "metadata": {},
     "output_type": "execute_result"
    }
   ],
   "source": [
    "4732/7"
   ]
  },
  {
   "cell_type": "code",
   "execution_count": 92,
   "id": "3ffe2ad8-ae5a-4c07-9bd7-3e2aa24b2d69",
   "metadata": {},
   "outputs": [
    {
     "data": {
      "text/plain": [
       "137257"
      ]
     },
     "execution_count": 92,
     "metadata": {},
     "output_type": "execute_result"
    }
   ],
   "source": [
    "cyclotomic_polynomial(7).subs(x=7)\n",
    "# Phi_7(u=7)=f(0), checked!"
   ]
  },
  {
   "cell_type": "code",
   "execution_count": 88,
   "id": "56c33ae5-c6eb-4b40-8dd9-0c7584aefff5",
   "metadata": {},
   "outputs": [],
   "source": [
    "llista = [1,2,3]"
   ]
  },
  {
   "cell_type": "code",
   "execution_count": 89,
   "id": "b020272c-ed1e-43d6-b6e5-e447256f2ac0",
   "metadata": {},
   "outputs": [
    {
     "data": {
      "text/plain": [
       "2862423051509815793"
      ]
     },
     "execution_count": 89,
     "metadata": {},
     "output_type": "execute_result"
    }
   ],
   "source": [
    "cyclotomic_polynomial(34).discriminant()"
   ]
  },
  {
   "cell_type": "code",
   "execution_count": 90,
   "id": "d7ea4c28-135b-4e74-bdad-093fd4111bfa",
   "metadata": {},
   "outputs": [
    {
     "data": {
      "text/plain": [
       "17^15"
      ]
     },
     "execution_count": 90,
     "metadata": {},
     "output_type": "execute_result"
    }
   ],
   "source": [
    "factor(_)"
   ]
  },
  {
   "cell_type": "code",
   "execution_count": 93,
   "id": "fc6c885a-4610-4b73-b716-ec7dad31ff26",
   "metadata": {},
   "outputs": [],
   "source": [
    "string = \"text_trial_degenerate\""
   ]
  },
  {
   "cell_type": "code",
   "execution_count": 100,
   "id": "289b5461-95e0-453d-a85a-31d1e00de133",
   "metadata": {},
   "outputs": [
    {
     "data": {
      "text/html": [
       "<html>\\(\\displaystyle \\verb|degenerate|\\)</html>"
      ],
      "text/latex": [
       "$\\displaystyle \\verb|degenerate|$"
      ],
      "text/plain": [
       "'degenerate'"
      ]
     },
     "metadata": {},
     "output_type": "display_data"
    }
   ],
   "source": [
    "show(string[-10:])"
   ]
  },
  {
   "cell_type": "code",
   "execution_count": 101,
   "id": "0a75d54c-8fc8-45a3-9213-0ce049ef4056",
   "metadata": {},
   "outputs": [
    {
     "data": {
      "text/plain": [
       "14"
      ]
     },
     "execution_count": 101,
     "metadata": {},
     "output_type": "execute_result"
    }
   ],
   "source": [
    "44%15"
   ]
  },
  {
   "cell_type": "code",
   "execution_count": 102,
   "id": "e7be4888-4b1b-441d-a207-290dee0ae2df",
   "metadata": {},
   "outputs": [],
   "source": [
    "def try_reps_list(coset_reps_list, prime_example, l, k):\n",
    "    return [m for m in coset_reps_list if l*m % k == prime_example]"
   ]
  },
  {
   "cell_type": "code",
   "execution_count": 103,
   "id": "8b1ce5f4-037a-48b9-b725-4ae4f597df65",
   "metadata": {},
   "outputs": [
    {
     "data": {
      "text/plain": [
       "[1]"
      ]
     },
     "execution_count": 103,
     "metadata": {},
     "output_type": "execute_result"
    }
   ],
   "source": [
    "try_reps_list([1,2,3], 6, 6, 7)"
   ]
  },
  {
   "cell_type": "code",
   "execution_count": 117,
   "id": "a0f52a20-f830-4551-ba04-10d15094a8b6",
   "metadata": {},
   "outputs": [],
   "source": [
    "def ell_options (k):\n",
    "    return [m for m in range(1,k) if m^2%k==1]"
   ]
  },
  {
   "cell_type": "code",
   "execution_count": 119,
   "id": "684de6e7-41ed-4317-8d29-20013a0cd270",
   "metadata": {},
   "outputs": [
    {
     "data": {
      "text/plain": [
       "[1, 49, 51, 99]"
      ]
     },
     "execution_count": 119,
     "metadata": {},
     "output_type": "execute_result"
    }
   ],
   "source": [
    "ell_options(100)"
   ]
  },
  {
   "cell_type": "code",
   "execution_count": 1,
   "id": "95de8c27-ba67-41a4-a0c2-cbfd3f60bc4b",
   "metadata": {},
   "outputs": [
    {
     "name": "stdout",
     "output_type": "stream",
     "text": [
      "[[5.00000000000000, 1.00000000000000, 1.00000000000000, 1.00000000000000, 1.00000000000000], [5.00000000000000, 5.00000000000000, 5.00000000000000, 1.00000000000000, 1.00000000000000], [1.00000000000000, 1.00000000000000, 5.00000000000000, 1.00000000000000, 1.00000000000000], [1.00000000000000, 1.00000000000000, 1.00000000000000, 5.00000000000000, 1.00000000000000], [5.00000000000000, 1.00000000000000, 1.00000000000000, 1.00000000000000, 5.00000000000000]]\n"
     ]
    }
   ],
   "source": [
    "m = [\n",
    "    [1, 0, 2, 0, 0],\n",
    "    [1, 1, 1, 2, 0],\n",
    "    [0, 4, 1, 0, 0],\n",
    "    [0, 4, 4, 1, 2],\n",
    "    [1, 3, 0, 0, 1]\n",
    "]\n",
    "\n",
    "dct = {1: 5., 0: 1., 2: 1., 3: 1., 4: 1.}\n",
    "n = [[dct[i] for i in j] for j in m]\n",
    "print(n)"
   ]
  },
  {
   "cell_type": "code",
   "execution_count": 140,
   "id": "4860cbde-ab5c-44e6-a970-b6e449cfa1ee",
   "metadata": {},
   "outputs": [
    {
     "name": "stdout",
     "output_type": "stream",
     "text": [
      "The factorization takes too long.\n",
      "The factorization takes too long.\n",
      "The factorization takes too long.\n",
      "The factorization takes too long.\n",
      "The factorization takes too long.\n",
      "The factorization takes too long.\n",
      "The factorization takes too long.\n",
      "The factorization takes too long.\n",
      "The factorization takes too long.\n",
      "The factorization takes too long.\n",
      "The factorization takes too long.\n",
      "The factorization takes too long.\n",
      "The factorization takes too long.\n",
      "The factorization takes too long.\n",
      "The factorization takes too long.\n",
      "The factorization takes too long.\n",
      "The factorization takes too long.\n",
      "The factorization takes too long.\n",
      "The factorization takes too long.\n",
      "The factorization takes too long.\n",
      "The factorization takes too long.\n",
      "The factorization takes too long.\n",
      "The factorization takes too long.\n",
      "The factorization takes too long.\n",
      "The factorization takes too long.\n",
      "The factorization takes too long.\n"
     ]
    },
    {
     "data": {
      "image/png": "[encoded data removed]",
      "text/plain": [
       "<Figure size 1600x1200 with 2 Axes>"
      ]
     },
     "metadata": {},
     "output_type": "display_data"
    }
   ],
   "source": [
    "%run utils.ipynb\n",
    "%run template_euc.ipynb\n",
    "\n",
    "# Abans d'executar cal posar els return al codi.\n",
    "first_k = 20; last_k = 80;\n",
    "exec_times(first_k, last_k)"
   ]
  },
  {
   "cell_type": "code",
   "execution_count": 36,
   "id": "75dfe6c3-68d2-4ca7-b246-0eb31c40b1d9",
   "metadata": {},
   "outputs": [],
   "source": [
    "z = CyclotomicField(15, names = 'ζ').gen()"
   ]
  },
  {
   "cell_type": "code",
   "execution_count": 37,
   "id": "2aef60e4-26cf-4d0a-b3e1-0fec295f6b66",
   "metadata": {},
   "outputs": [
    {
     "data": {
      "text/plain": [
       "-ζ^5 + 15*ζ^4 + 15*ζ - 225"
      ]
     },
     "execution_count": 37,
     "metadata": {},
     "output_type": "execute_result"
    }
   ],
   "source": [
    "(z-15)*(15-z^4)"
   ]
  },
  {
   "cell_type": "code",
   "execution_count": 80,
   "id": "27e442fb-0b0a-42ff-8a39-116f46cf40a7",
   "metadata": {},
   "outputs": [
    {
     "data": {
      "text/plain": [
       "array([[0, 1, 2],\n",
       "       [3, 4, 5]])"
      ]
     },
     "execution_count": 80,
     "metadata": {},
     "output_type": "execute_result"
    }
   ],
   "source": [
    "np.arange(2 * 3).reshape((2, 3))"
   ]
  },
  {
   "cell_type": "code",
   "execution_count": 141,
   "id": "9dcec547-5294-49a3-9968-d1a22bf75299",
   "metadata": {},
   "outputs": [
    {
     "data": {
      "text/plain": [
       "array([0., 0.])"
      ]
     },
     "execution_count": 141,
     "metadata": {},
     "output_type": "execute_result"
    }
   ],
   "source": [
    "np.zeros(2)"
   ]
  },
  {
   "cell_type": "code",
   "execution_count": 2,
   "id": "6918202a-e518-4269-acbc-2d6bc750c92c",
   "metadata": {},
   "outputs": [
    {
     "ename": "RuntimeError",
     "evalue": "Failed to process string with tex because latex could not be found",
     "output_type": "error",
     "traceback": [
      "\u001b[0;31m---------------------------------------------------------------------------\u001b[0m",
      "\u001b[0;31mFileNotFoundError\u001b[0m                         Traceback (most recent call last)",
      "File \u001b[0;32m/opt/anaconda3/envs/sage/lib/python3.9/site-packages/matplotlib/texmanager.py:250\u001b[0m, in \u001b[0;36mTexManager._run_checked_subprocess\u001b[0;34m(cls, command, tex, cwd)\u001b[0m\n\u001b[1;32m    249\u001b[0m \u001b[38;5;28;01mtry\u001b[39;00m:\n\u001b[0;32m--> 250\u001b[0m     report \u001b[38;5;241m=\u001b[39m \u001b[43msubprocess\u001b[49m\u001b[38;5;241;43m.\u001b[39;49m\u001b[43mcheck_output\u001b[49m\u001b[43m(\u001b[49m\n\u001b[1;32m    251\u001b[0m \u001b[43m        \u001b[49m\u001b[43mcommand\u001b[49m\u001b[43m,\u001b[49m\u001b[43m \u001b[49m\u001b[43mcwd\u001b[49m\u001b[38;5;241;43m=\u001b[39;49m\u001b[43mcwd\u001b[49m\u001b[43m \u001b[49m\u001b[38;5;28;43;01mif\u001b[39;49;00m\u001b[43m \u001b[49m\u001b[43mcwd\u001b[49m\u001b[43m \u001b[49m\u001b[38;5;129;43;01mis\u001b[39;49;00m\u001b[43m \u001b[49m\u001b[38;5;129;43;01mnot\u001b[39;49;00m\u001b[43m \u001b[49m\u001b[38;5;28;43;01mNone\u001b[39;49;00m\u001b[43m \u001b[49m\u001b[38;5;28;43;01melse\u001b[39;49;00m\u001b[43m \u001b[49m\u001b[38;5;28;43mcls\u001b[39;49m\u001b[38;5;241;43m.\u001b[39;49m\u001b[43m_texcache\u001b[49m\u001b[43m,\u001b[49m\n\u001b[1;32m    252\u001b[0m \u001b[43m        \u001b[49m\u001b[43mstderr\u001b[49m\u001b[38;5;241;43m=\u001b[39;49m\u001b[43msubprocess\u001b[49m\u001b[38;5;241;43m.\u001b[39;49m\u001b[43mSTDOUT\u001b[49m\u001b[43m)\u001b[49m\n\u001b[1;32m    253\u001b[0m \u001b[38;5;28;01mexcept\u001b[39;00m \u001b[38;5;167;01mFileNotFoundError\u001b[39;00m \u001b[38;5;28;01mas\u001b[39;00m exc:\n",
      "File \u001b[0;32m/opt/anaconda3/envs/sage/lib/python3.9/subprocess.py:424\u001b[0m, in \u001b[0;36mcheck_output\u001b[0;34m(timeout, *popenargs, **kwargs)\u001b[0m\n\u001b[1;32m    422\u001b[0m     kwargs[\u001b[38;5;124m'\u001b[39m\u001b[38;5;124minput\u001b[39m\u001b[38;5;124m'\u001b[39m] \u001b[38;5;241m=\u001b[39m empty\n\u001b[0;32m--> 424\u001b[0m \u001b[38;5;28;01mreturn\u001b[39;00m \u001b[43mrun\u001b[49m\u001b[43m(\u001b[49m\u001b[38;5;241;43m*\u001b[39;49m\u001b[43mpopenargs\u001b[49m\u001b[43m,\u001b[49m\u001b[43m \u001b[49m\u001b[43mstdout\u001b[49m\u001b[38;5;241;43m=\u001b[39;49m\u001b[43mPIPE\u001b[49m\u001b[43m,\u001b[49m\u001b[43m \u001b[49m\u001b[43mtimeout\u001b[49m\u001b[38;5;241;43m=\u001b[39;49m\u001b[43mtimeout\u001b[49m\u001b[43m,\u001b[49m\u001b[43m \u001b[49m\u001b[43mcheck\u001b[49m\u001b[38;5;241;43m=\u001b[39;49m\u001b[38;5;28;43;01mTrue\u001b[39;49;00m\u001b[43m,\u001b[49m\n\u001b[1;32m    425\u001b[0m \u001b[43m           \u001b[49m\u001b[38;5;241;43m*\u001b[39;49m\u001b[38;5;241;43m*\u001b[39;49m\u001b[43mkwargs\u001b[49m\u001b[43m)\u001b[49m\u001b[38;5;241m.\u001b[39mstdout\n",
      "File \u001b[0;32m/opt/anaconda3/envs/sage/lib/python3.9/subprocess.py:505\u001b[0m, in \u001b[0;36mrun\u001b[0;34m(input, capture_output, timeout, check, *popenargs, **kwargs)\u001b[0m\n\u001b[1;32m    503\u001b[0m     kwargs[\u001b[38;5;124m'\u001b[39m\u001b[38;5;124mstderr\u001b[39m\u001b[38;5;124m'\u001b[39m] \u001b[38;5;241m=\u001b[39m PIPE\n\u001b[0;32m--> 505\u001b[0m \u001b[38;5;28;01mwith\u001b[39;00m \u001b[43mPopen\u001b[49m\u001b[43m(\u001b[49m\u001b[38;5;241;43m*\u001b[39;49m\u001b[43mpopenargs\u001b[49m\u001b[43m,\u001b[49m\u001b[43m \u001b[49m\u001b[38;5;241;43m*\u001b[39;49m\u001b[38;5;241;43m*\u001b[39;49m\u001b[43mkwargs\u001b[49m\u001b[43m)\u001b[49m \u001b[38;5;28;01mas\u001b[39;00m process:\n\u001b[1;32m    506\u001b[0m     \u001b[38;5;28;01mtry\u001b[39;00m:\n",
      "File \u001b[0;32m/opt/anaconda3/envs/sage/lib/python3.9/subprocess.py:951\u001b[0m, in \u001b[0;36mPopen.__init__\u001b[0;34m(self, args, bufsize, executable, stdin, stdout, stderr, preexec_fn, close_fds, shell, cwd, env, universal_newlines, startupinfo, creationflags, restore_signals, start_new_session, pass_fds, user, group, extra_groups, encoding, errors, text, umask)\u001b[0m\n\u001b[1;32m    948\u001b[0m             \u001b[38;5;28mself\u001b[39m\u001b[38;5;241m.\u001b[39mstderr \u001b[38;5;241m=\u001b[39m io\u001b[38;5;241m.\u001b[39mTextIOWrapper(\u001b[38;5;28mself\u001b[39m\u001b[38;5;241m.\u001b[39mstderr,\n\u001b[1;32m    949\u001b[0m                     encoding\u001b[38;5;241m=\u001b[39mencoding, errors\u001b[38;5;241m=\u001b[39merrors)\n\u001b[0;32m--> 951\u001b[0m     \u001b[38;5;28;43mself\u001b[39;49m\u001b[38;5;241;43m.\u001b[39;49m\u001b[43m_execute_child\u001b[49m\u001b[43m(\u001b[49m\u001b[43margs\u001b[49m\u001b[43m,\u001b[49m\u001b[43m \u001b[49m\u001b[43mexecutable\u001b[49m\u001b[43m,\u001b[49m\u001b[43m \u001b[49m\u001b[43mpreexec_fn\u001b[49m\u001b[43m,\u001b[49m\u001b[43m \u001b[49m\u001b[43mclose_fds\u001b[49m\u001b[43m,\u001b[49m\n\u001b[1;32m    952\u001b[0m \u001b[43m                        \u001b[49m\u001b[43mpass_fds\u001b[49m\u001b[43m,\u001b[49m\u001b[43m \u001b[49m\u001b[43mcwd\u001b[49m\u001b[43m,\u001b[49m\u001b[43m \u001b[49m\u001b[43menv\u001b[49m\u001b[43m,\u001b[49m\n\u001b[1;32m    953\u001b[0m \u001b[43m                        \u001b[49m\u001b[43mstartupinfo\u001b[49m\u001b[43m,\u001b[49m\u001b[43m \u001b[49m\u001b[43mcreationflags\u001b[49m\u001b[43m,\u001b[49m\u001b[43m \u001b[49m\u001b[43mshell\u001b[49m\u001b[43m,\u001b[49m\n\u001b[1;32m    954\u001b[0m \u001b[43m                        \u001b[49m\u001b[43mp2cread\u001b[49m\u001b[43m,\u001b[49m\u001b[43m \u001b[49m\u001b[43mp2cwrite\u001b[49m\u001b[43m,\u001b[49m\n\u001b[1;32m    955\u001b[0m \u001b[43m                        \u001b[49m\u001b[43mc2pread\u001b[49m\u001b[43m,\u001b[49m\u001b[43m \u001b[49m\u001b[43mc2pwrite\u001b[49m\u001b[43m,\u001b[49m\n\u001b[1;32m    956\u001b[0m \u001b[43m                        \u001b[49m\u001b[43merrread\u001b[49m\u001b[43m,\u001b[49m\u001b[43m \u001b[49m\u001b[43merrwrite\u001b[49m\u001b[43m,\u001b[49m\n\u001b[1;32m    957\u001b[0m \u001b[43m                        \u001b[49m\u001b[43mrestore_signals\u001b[49m\u001b[43m,\u001b[49m\n\u001b[1;32m    958\u001b[0m \u001b[43m                        \u001b[49m\u001b[43mgid\u001b[49m\u001b[43m,\u001b[49m\u001b[43m \u001b[49m\u001b[43mgids\u001b[49m\u001b[43m,\u001b[49m\u001b[43m \u001b[49m\u001b[43muid\u001b[49m\u001b[43m,\u001b[49m\u001b[43m \u001b[49m\u001b[43mumask\u001b[49m\u001b[43m,\u001b[49m\n\u001b[1;32m    959\u001b[0m \u001b[43m                        \u001b[49m\u001b[43mstart_new_session\u001b[49m\u001b[43m)\u001b[49m\n\u001b[1;32m    960\u001b[0m \u001b[38;5;28;01mexcept\u001b[39;00m:\n\u001b[1;32m    961\u001b[0m     \u001b[38;5;66;03m# Cleanup if the child failed starting.\u001b[39;00m\n",
      "File \u001b[0;32m/opt/anaconda3/envs/sage/lib/python3.9/subprocess.py:1837\u001b[0m, in \u001b[0;36mPopen._execute_child\u001b[0;34m(self, args, executable, preexec_fn, close_fds, pass_fds, cwd, env, startupinfo, creationflags, shell, p2cread, p2cwrite, c2pread, c2pwrite, errread, errwrite, restore_signals, gid, gids, uid, umask, start_new_session)\u001b[0m\n\u001b[1;32m   1836\u001b[0m         err_msg \u001b[38;5;241m=\u001b[39m os\u001b[38;5;241m.\u001b[39mstrerror(errno_num)\n\u001b[0;32m-> 1837\u001b[0m     \u001b[38;5;28;01mraise\u001b[39;00m child_exception_type(errno_num, err_msg, err_filename)\n\u001b[1;32m   1838\u001b[0m \u001b[38;5;28;01mraise\u001b[39;00m child_exception_type(err_msg)\n",
      "\u001b[0;31mFileNotFoundError\u001b[0m: [Errno 2] No such file or directory: 'latex'",
      "\nThe above exception was the direct cause of the following exception:\n",
      "\u001b[0;31mRuntimeError\u001b[0m                              Traceback (most recent call last)",
      "File \u001b[0;32m/opt/anaconda3/envs/sage/lib/python3.9/site-packages/IPython/core/formatters.py:340\u001b[0m, in \u001b[0;36mBaseFormatter.__call__\u001b[0;34m(self, obj)\u001b[0m\n\u001b[1;32m    338\u001b[0m     \u001b[38;5;28;01mpass\u001b[39;00m\n\u001b[1;32m    339\u001b[0m \u001b[38;5;28;01melse\u001b[39;00m:\n\u001b[0;32m--> 340\u001b[0m     \u001b[38;5;28;01mreturn\u001b[39;00m \u001b[43mprinter\u001b[49m\u001b[43m(\u001b[49m\u001b[43mobj\u001b[49m\u001b[43m)\u001b[49m\n\u001b[1;32m    341\u001b[0m \u001b[38;5;66;03m# Finally look for special method names\u001b[39;00m\n\u001b[1;32m    342\u001b[0m method \u001b[38;5;241m=\u001b[39m get_real_method(obj, \u001b[38;5;28mself\u001b[39m\u001b[38;5;241m.\u001b[39mprint_method)\n",
      "File \u001b[0;32m/opt/anaconda3/envs/sage/lib/python3.9/site-packages/IPython/core/pylabtools.py:152\u001b[0m, in \u001b[0;36mprint_figure\u001b[0;34m(fig, fmt, bbox_inches, base64, **kwargs)\u001b[0m\n\u001b[1;32m    149\u001b[0m     \u001b[38;5;28;01mfrom\u001b[39;00m \u001b[38;5;21;01mmatplotlib\u001b[39;00m\u001b[38;5;21;01m.\u001b[39;00m\u001b[38;5;21;01mbackend_bases\u001b[39;00m \u001b[38;5;28;01mimport\u001b[39;00m FigureCanvasBase\n\u001b[1;32m    150\u001b[0m     FigureCanvasBase(fig)\n\u001b[0;32m--> 152\u001b[0m \u001b[43mfig\u001b[49m\u001b[38;5;241;43m.\u001b[39;49m\u001b[43mcanvas\u001b[49m\u001b[38;5;241;43m.\u001b[39;49m\u001b[43mprint_figure\u001b[49m\u001b[43m(\u001b[49m\u001b[43mbytes_io\u001b[49m\u001b[43m,\u001b[49m\u001b[43m \u001b[49m\u001b[38;5;241;43m*\u001b[39;49m\u001b[38;5;241;43m*\u001b[39;49m\u001b[43mkw\u001b[49m\u001b[43m)\u001b[49m\n\u001b[1;32m    153\u001b[0m data \u001b[38;5;241m=\u001b[39m bytes_io\u001b[38;5;241m.\u001b[39mgetvalue()\n\u001b[1;32m    154\u001b[0m \u001b[38;5;28;01mif\u001b[39;00m fmt \u001b[38;5;241m==\u001b[39m \u001b[38;5;124m'\u001b[39m\u001b[38;5;124msvg\u001b[39m\u001b[38;5;124m'\u001b[39m:\n",
      "File \u001b[0;32m/opt/anaconda3/envs/sage/lib/python3.9/site-packages/matplotlib/backend_bases.py:2175\u001b[0m, in \u001b[0;36mFigureCanvasBase.print_figure\u001b[0;34m(self, filename, dpi, facecolor, edgecolor, orientation, format, bbox_inches, pad_inches, bbox_extra_artists, backend, **kwargs)\u001b[0m\n\u001b[1;32m   2172\u001b[0m     \u001b[38;5;66;03m# we do this instead of `self.figure.draw_without_rendering`\u001b[39;00m\n\u001b[1;32m   2173\u001b[0m     \u001b[38;5;66;03m# so that we can inject the orientation\u001b[39;00m\n\u001b[1;32m   2174\u001b[0m     \u001b[38;5;28;01mwith\u001b[39;00m \u001b[38;5;28mgetattr\u001b[39m(renderer, \u001b[38;5;124m\"\u001b[39m\u001b[38;5;124m_draw_disabled\u001b[39m\u001b[38;5;124m\"\u001b[39m, nullcontext)():\n\u001b[0;32m-> 2175\u001b[0m         \u001b[38;5;28;43mself\u001b[39;49m\u001b[38;5;241;43m.\u001b[39;49m\u001b[43mfigure\u001b[49m\u001b[38;5;241;43m.\u001b[39;49m\u001b[43mdraw\u001b[49m\u001b[43m(\u001b[49m\u001b[43mrenderer\u001b[49m\u001b[43m)\u001b[49m\n\u001b[1;32m   2176\u001b[0m \u001b[38;5;28;01mif\u001b[39;00m bbox_inches:\n\u001b[1;32m   2177\u001b[0m     \u001b[38;5;28;01mif\u001b[39;00m bbox_inches \u001b[38;5;241m==\u001b[39m \u001b[38;5;124m\"\u001b[39m\u001b[38;5;124mtight\u001b[39m\u001b[38;5;124m\"\u001b[39m:\n",
      "File \u001b[0;32m/opt/anaconda3/envs/sage/lib/python3.9/site-packages/matplotlib/artist.py:95\u001b[0m, in \u001b[0;36m_finalize_rasterization.<locals>.draw_wrapper\u001b[0;34m(artist, renderer, *args, **kwargs)\u001b[0m\n\u001b[1;32m     93\u001b[0m \u001b[38;5;129m@wraps\u001b[39m(draw)\n\u001b[1;32m     94\u001b[0m \u001b[38;5;28;01mdef\u001b[39;00m \u001b[38;5;21mdraw_wrapper\u001b[39m(artist, renderer, \u001b[38;5;241m*\u001b[39margs, \u001b[38;5;241m*\u001b[39m\u001b[38;5;241m*\u001b[39mkwargs):\n\u001b[0;32m---> 95\u001b[0m     result \u001b[38;5;241m=\u001b[39m \u001b[43mdraw\u001b[49m\u001b[43m(\u001b[49m\u001b[43martist\u001b[49m\u001b[43m,\u001b[49m\u001b[43m \u001b[49m\u001b[43mrenderer\u001b[49m\u001b[43m,\u001b[49m\u001b[43m \u001b[49m\u001b[38;5;241;43m*\u001b[39;49m\u001b[43margs\u001b[49m\u001b[43m,\u001b[49m\u001b[43m \u001b[49m\u001b[38;5;241;43m*\u001b[39;49m\u001b[38;5;241;43m*\u001b[39;49m\u001b[43mkwargs\u001b[49m\u001b[43m)\u001b[49m\n\u001b[1;32m     96\u001b[0m     \u001b[38;5;28;01mif\u001b[39;00m renderer\u001b[38;5;241m.\u001b[39m_rasterizing:\n\u001b[1;32m     97\u001b[0m         renderer\u001b[38;5;241m.\u001b[39mstop_rasterizing()\n",
      "File \u001b[0;32m/opt/anaconda3/envs/sage/lib/python3.9/site-packages/matplotlib/artist.py:72\u001b[0m, in \u001b[0;36mallow_rasterization.<locals>.draw_wrapper\u001b[0;34m(artist, renderer)\u001b[0m\n\u001b[1;32m     69\u001b[0m     \u001b[38;5;28;01mif\u001b[39;00m artist\u001b[38;5;241m.\u001b[39mget_agg_filter() \u001b[38;5;129;01mis\u001b[39;00m \u001b[38;5;129;01mnot\u001b[39;00m \u001b[38;5;28;01mNone\u001b[39;00m:\n\u001b[1;32m     70\u001b[0m         renderer\u001b[38;5;241m.\u001b[39mstart_filter()\n\u001b[0;32m---> 72\u001b[0m     \u001b[38;5;28;01mreturn\u001b[39;00m \u001b[43mdraw\u001b[49m\u001b[43m(\u001b[49m\u001b[43martist\u001b[49m\u001b[43m,\u001b[49m\u001b[43m \u001b[49m\u001b[43mrenderer\u001b[49m\u001b[43m)\u001b[49m\n\u001b[1;32m     73\u001b[0m \u001b[38;5;28;01mfinally\u001b[39;00m:\n\u001b[1;32m     74\u001b[0m     \u001b[38;5;28;01mif\u001b[39;00m artist\u001b[38;5;241m.\u001b[39mget_agg_filter() \u001b[38;5;129;01mis\u001b[39;00m \u001b[38;5;129;01mnot\u001b[39;00m \u001b[38;5;28;01mNone\u001b[39;00m:\n",
      "File \u001b[0;32m/opt/anaconda3/envs/sage/lib/python3.9/site-packages/matplotlib/figure.py:3162\u001b[0m, in \u001b[0;36mFigure.draw\u001b[0;34m(self, renderer)\u001b[0m\n\u001b[1;32m   3159\u001b[0m             \u001b[38;5;66;03m# ValueError can occur when resizing a window.\u001b[39;00m\n\u001b[1;32m   3161\u001b[0m     \u001b[38;5;28mself\u001b[39m\u001b[38;5;241m.\u001b[39mpatch\u001b[38;5;241m.\u001b[39mdraw(renderer)\n\u001b[0;32m-> 3162\u001b[0m     \u001b[43mmimage\u001b[49m\u001b[38;5;241;43m.\u001b[39;49m\u001b[43m_draw_list_compositing_images\u001b[49m\u001b[43m(\u001b[49m\n\u001b[1;32m   3163\u001b[0m \u001b[43m        \u001b[49m\u001b[43mrenderer\u001b[49m\u001b[43m,\u001b[49m\u001b[43m \u001b[49m\u001b[38;5;28;43mself\u001b[39;49m\u001b[43m,\u001b[49m\u001b[43m \u001b[49m\u001b[43martists\u001b[49m\u001b[43m,\u001b[49m\u001b[43m \u001b[49m\u001b[38;5;28;43mself\u001b[39;49m\u001b[38;5;241;43m.\u001b[39;49m\u001b[43msuppressComposite\u001b[49m\u001b[43m)\u001b[49m\n\u001b[1;32m   3165\u001b[0m     renderer\u001b[38;5;241m.\u001b[39mclose_group(\u001b[38;5;124m'\u001b[39m\u001b[38;5;124mfigure\u001b[39m\u001b[38;5;124m'\u001b[39m)\n\u001b[1;32m   3166\u001b[0m \u001b[38;5;28;01mfinally\u001b[39;00m:\n",
      "File \u001b[0;32m/opt/anaconda3/envs/sage/lib/python3.9/site-packages/matplotlib/image.py:132\u001b[0m, in \u001b[0;36m_draw_list_compositing_images\u001b[0;34m(renderer, parent, artists, suppress_composite)\u001b[0m\n\u001b[1;32m    130\u001b[0m \u001b[38;5;28;01mif\u001b[39;00m not_composite \u001b[38;5;129;01mor\u001b[39;00m \u001b[38;5;129;01mnot\u001b[39;00m has_images:\n\u001b[1;32m    131\u001b[0m     \u001b[38;5;28;01mfor\u001b[39;00m a \u001b[38;5;129;01min\u001b[39;00m artists:\n\u001b[0;32m--> 132\u001b[0m         \u001b[43ma\u001b[49m\u001b[38;5;241;43m.\u001b[39;49m\u001b[43mdraw\u001b[49m\u001b[43m(\u001b[49m\u001b[43mrenderer\u001b[49m\u001b[43m)\u001b[49m\n\u001b[1;32m    133\u001b[0m \u001b[38;5;28;01melse\u001b[39;00m:\n\u001b[1;32m    134\u001b[0m     \u001b[38;5;66;03m# Composite any adjacent images together\u001b[39;00m\n\u001b[1;32m    135\u001b[0m     image_group \u001b[38;5;241m=\u001b[39m []\n",
      "File \u001b[0;32m/opt/anaconda3/envs/sage/lib/python3.9/site-packages/matplotlib/artist.py:72\u001b[0m, in \u001b[0;36mallow_rasterization.<locals>.draw_wrapper\u001b[0;34m(artist, renderer)\u001b[0m\n\u001b[1;32m     69\u001b[0m     \u001b[38;5;28;01mif\u001b[39;00m artist\u001b[38;5;241m.\u001b[39mget_agg_filter() \u001b[38;5;129;01mis\u001b[39;00m \u001b[38;5;129;01mnot\u001b[39;00m \u001b[38;5;28;01mNone\u001b[39;00m:\n\u001b[1;32m     70\u001b[0m         renderer\u001b[38;5;241m.\u001b[39mstart_filter()\n\u001b[0;32m---> 72\u001b[0m     \u001b[38;5;28;01mreturn\u001b[39;00m \u001b[43mdraw\u001b[49m\u001b[43m(\u001b[49m\u001b[43martist\u001b[49m\u001b[43m,\u001b[49m\u001b[43m \u001b[49m\u001b[43mrenderer\u001b[49m\u001b[43m)\u001b[49m\n\u001b[1;32m     73\u001b[0m \u001b[38;5;28;01mfinally\u001b[39;00m:\n\u001b[1;32m     74\u001b[0m     \u001b[38;5;28;01mif\u001b[39;00m artist\u001b[38;5;241m.\u001b[39mget_agg_filter() \u001b[38;5;129;01mis\u001b[39;00m \u001b[38;5;129;01mnot\u001b[39;00m \u001b[38;5;28;01mNone\u001b[39;00m:\n",
      "File \u001b[0;32m/opt/anaconda3/envs/sage/lib/python3.9/site-packages/matplotlib/axes/_base.py:3137\u001b[0m, in \u001b[0;36m_AxesBase.draw\u001b[0;34m(self, renderer)\u001b[0m\n\u001b[1;32m   3134\u001b[0m \u001b[38;5;28;01mif\u001b[39;00m artists_rasterized:\n\u001b[1;32m   3135\u001b[0m     _draw_rasterized(\u001b[38;5;28mself\u001b[39m\u001b[38;5;241m.\u001b[39mfigure, artists_rasterized, renderer)\n\u001b[0;32m-> 3137\u001b[0m \u001b[43mmimage\u001b[49m\u001b[38;5;241;43m.\u001b[39;49m\u001b[43m_draw_list_compositing_images\u001b[49m\u001b[43m(\u001b[49m\n\u001b[1;32m   3138\u001b[0m \u001b[43m    \u001b[49m\u001b[43mrenderer\u001b[49m\u001b[43m,\u001b[49m\u001b[43m \u001b[49m\u001b[38;5;28;43mself\u001b[39;49m\u001b[43m,\u001b[49m\u001b[43m \u001b[49m\u001b[43martists\u001b[49m\u001b[43m,\u001b[49m\u001b[43m \u001b[49m\u001b[38;5;28;43mself\u001b[39;49m\u001b[38;5;241;43m.\u001b[39;49m\u001b[43mfigure\u001b[49m\u001b[38;5;241;43m.\u001b[39;49m\u001b[43msuppressComposite\u001b[49m\u001b[43m)\u001b[49m\n\u001b[1;32m   3140\u001b[0m renderer\u001b[38;5;241m.\u001b[39mclose_group(\u001b[38;5;124m'\u001b[39m\u001b[38;5;124maxes\u001b[39m\u001b[38;5;124m'\u001b[39m)\n\u001b[1;32m   3141\u001b[0m \u001b[38;5;28mself\u001b[39m\u001b[38;5;241m.\u001b[39mstale \u001b[38;5;241m=\u001b[39m \u001b[38;5;28;01mFalse\u001b[39;00m\n",
      "File \u001b[0;32m/opt/anaconda3/envs/sage/lib/python3.9/site-packages/matplotlib/image.py:132\u001b[0m, in \u001b[0;36m_draw_list_compositing_images\u001b[0;34m(renderer, parent, artists, suppress_composite)\u001b[0m\n\u001b[1;32m    130\u001b[0m \u001b[38;5;28;01mif\u001b[39;00m not_composite \u001b[38;5;129;01mor\u001b[39;00m \u001b[38;5;129;01mnot\u001b[39;00m has_images:\n\u001b[1;32m    131\u001b[0m     \u001b[38;5;28;01mfor\u001b[39;00m a \u001b[38;5;129;01min\u001b[39;00m artists:\n\u001b[0;32m--> 132\u001b[0m         \u001b[43ma\u001b[49m\u001b[38;5;241;43m.\u001b[39;49m\u001b[43mdraw\u001b[49m\u001b[43m(\u001b[49m\u001b[43mrenderer\u001b[49m\u001b[43m)\u001b[49m\n\u001b[1;32m    133\u001b[0m \u001b[38;5;28;01melse\u001b[39;00m:\n\u001b[1;32m    134\u001b[0m     \u001b[38;5;66;03m# Composite any adjacent images together\u001b[39;00m\n\u001b[1;32m    135\u001b[0m     image_group \u001b[38;5;241m=\u001b[39m []\n",
      "File \u001b[0;32m/opt/anaconda3/envs/sage/lib/python3.9/site-packages/matplotlib/artist.py:72\u001b[0m, in \u001b[0;36mallow_rasterization.<locals>.draw_wrapper\u001b[0;34m(artist, renderer)\u001b[0m\n\u001b[1;32m     69\u001b[0m     \u001b[38;5;28;01mif\u001b[39;00m artist\u001b[38;5;241m.\u001b[39mget_agg_filter() \u001b[38;5;129;01mis\u001b[39;00m \u001b[38;5;129;01mnot\u001b[39;00m \u001b[38;5;28;01mNone\u001b[39;00m:\n\u001b[1;32m     70\u001b[0m         renderer\u001b[38;5;241m.\u001b[39mstart_filter()\n\u001b[0;32m---> 72\u001b[0m     \u001b[38;5;28;01mreturn\u001b[39;00m \u001b[43mdraw\u001b[49m\u001b[43m(\u001b[49m\u001b[43martist\u001b[49m\u001b[43m,\u001b[49m\u001b[43m \u001b[49m\u001b[43mrenderer\u001b[49m\u001b[43m)\u001b[49m\n\u001b[1;32m     73\u001b[0m \u001b[38;5;28;01mfinally\u001b[39;00m:\n\u001b[1;32m     74\u001b[0m     \u001b[38;5;28;01mif\u001b[39;00m artist\u001b[38;5;241m.\u001b[39mget_agg_filter() \u001b[38;5;129;01mis\u001b[39;00m \u001b[38;5;129;01mnot\u001b[39;00m \u001b[38;5;28;01mNone\u001b[39;00m:\n",
      "File \u001b[0;32m/opt/anaconda3/envs/sage/lib/python3.9/site-packages/matplotlib/axis.py:1424\u001b[0m, in \u001b[0;36mAxis.draw\u001b[0;34m(self, renderer)\u001b[0m\n\u001b[1;32m   1421\u001b[0m renderer\u001b[38;5;241m.\u001b[39mopen_group(\u001b[38;5;18m__name__\u001b[39m, gid\u001b[38;5;241m=\u001b[39m\u001b[38;5;28mself\u001b[39m\u001b[38;5;241m.\u001b[39mget_gid())\n\u001b[1;32m   1423\u001b[0m ticks_to_draw \u001b[38;5;241m=\u001b[39m \u001b[38;5;28mself\u001b[39m\u001b[38;5;241m.\u001b[39m_update_ticks()\n\u001b[0;32m-> 1424\u001b[0m tlb1, tlb2 \u001b[38;5;241m=\u001b[39m \u001b[38;5;28;43mself\u001b[39;49m\u001b[38;5;241;43m.\u001b[39;49m\u001b[43m_get_ticklabel_bboxes\u001b[49m\u001b[43m(\u001b[49m\u001b[43mticks_to_draw\u001b[49m\u001b[43m,\u001b[49m\u001b[43m \u001b[49m\u001b[43mrenderer\u001b[49m\u001b[43m)\u001b[49m\n\u001b[1;32m   1426\u001b[0m \u001b[38;5;28;01mfor\u001b[39;00m tick \u001b[38;5;129;01min\u001b[39;00m ticks_to_draw:\n\u001b[1;32m   1427\u001b[0m     tick\u001b[38;5;241m.\u001b[39mdraw(renderer)\n",
      "File \u001b[0;32m/opt/anaconda3/envs/sage/lib/python3.9/site-packages/matplotlib/axis.py:1351\u001b[0m, in \u001b[0;36mAxis._get_ticklabel_bboxes\u001b[0;34m(self, ticks, renderer)\u001b[0m\n\u001b[1;32m   1349\u001b[0m \u001b[38;5;28;01mif\u001b[39;00m renderer \u001b[38;5;129;01mis\u001b[39;00m \u001b[38;5;28;01mNone\u001b[39;00m:\n\u001b[1;32m   1350\u001b[0m     renderer \u001b[38;5;241m=\u001b[39m \u001b[38;5;28mself\u001b[39m\u001b[38;5;241m.\u001b[39mfigure\u001b[38;5;241m.\u001b[39m_get_renderer()\n\u001b[0;32m-> 1351\u001b[0m \u001b[38;5;28;01mreturn\u001b[39;00m ([tick\u001b[38;5;241m.\u001b[39mlabel1\u001b[38;5;241m.\u001b[39mget_window_extent(renderer)\n\u001b[1;32m   1352\u001b[0m          \u001b[38;5;28;01mfor\u001b[39;00m tick \u001b[38;5;129;01min\u001b[39;00m ticks \u001b[38;5;28;01mif\u001b[39;00m tick\u001b[38;5;241m.\u001b[39mlabel1\u001b[38;5;241m.\u001b[39mget_visible()],\n\u001b[1;32m   1353\u001b[0m         [tick\u001b[38;5;241m.\u001b[39mlabel2\u001b[38;5;241m.\u001b[39mget_window_extent(renderer)\n\u001b[1;32m   1354\u001b[0m          \u001b[38;5;28;01mfor\u001b[39;00m tick \u001b[38;5;129;01min\u001b[39;00m ticks \u001b[38;5;28;01mif\u001b[39;00m tick\u001b[38;5;241m.\u001b[39mlabel2\u001b[38;5;241m.\u001b[39mget_visible()])\n",
      "File \u001b[0;32m/opt/anaconda3/envs/sage/lib/python3.9/site-packages/matplotlib/axis.py:1351\u001b[0m, in \u001b[0;36m<listcomp>\u001b[0;34m(.0)\u001b[0m\n\u001b[1;32m   1349\u001b[0m \u001b[38;5;28;01mif\u001b[39;00m renderer \u001b[38;5;129;01mis\u001b[39;00m \u001b[38;5;28;01mNone\u001b[39;00m:\n\u001b[1;32m   1350\u001b[0m     renderer \u001b[38;5;241m=\u001b[39m \u001b[38;5;28mself\u001b[39m\u001b[38;5;241m.\u001b[39mfigure\u001b[38;5;241m.\u001b[39m_get_renderer()\n\u001b[0;32m-> 1351\u001b[0m \u001b[38;5;28;01mreturn\u001b[39;00m ([\u001b[43mtick\u001b[49m\u001b[38;5;241;43m.\u001b[39;49m\u001b[43mlabel1\u001b[49m\u001b[38;5;241;43m.\u001b[39;49m\u001b[43mget_window_extent\u001b[49m\u001b[43m(\u001b[49m\u001b[43mrenderer\u001b[49m\u001b[43m)\u001b[49m\n\u001b[1;32m   1352\u001b[0m          \u001b[38;5;28;01mfor\u001b[39;00m tick \u001b[38;5;129;01min\u001b[39;00m ticks \u001b[38;5;28;01mif\u001b[39;00m tick\u001b[38;5;241m.\u001b[39mlabel1\u001b[38;5;241m.\u001b[39mget_visible()],\n\u001b[1;32m   1353\u001b[0m         [tick\u001b[38;5;241m.\u001b[39mlabel2\u001b[38;5;241m.\u001b[39mget_window_extent(renderer)\n\u001b[1;32m   1354\u001b[0m          \u001b[38;5;28;01mfor\u001b[39;00m tick \u001b[38;5;129;01min\u001b[39;00m ticks \u001b[38;5;28;01mif\u001b[39;00m tick\u001b[38;5;241m.\u001b[39mlabel2\u001b[38;5;241m.\u001b[39mget_visible()])\n",
      "File \u001b[0;32m/opt/anaconda3/envs/sage/lib/python3.9/site-packages/matplotlib/text.py:959\u001b[0m, in \u001b[0;36mText.get_window_extent\u001b[0;34m(self, renderer, dpi)\u001b[0m\n\u001b[1;32m    954\u001b[0m     \u001b[38;5;28;01mraise\u001b[39;00m \u001b[38;5;167;01mRuntimeError\u001b[39;00m(\n\u001b[1;32m    955\u001b[0m         \u001b[38;5;124m\"\u001b[39m\u001b[38;5;124mCannot get window extent of text w/o renderer. You likely \u001b[39m\u001b[38;5;124m\"\u001b[39m\n\u001b[1;32m    956\u001b[0m         \u001b[38;5;124m\"\u001b[39m\u001b[38;5;124mwant to call \u001b[39m\u001b[38;5;124m'\u001b[39m\u001b[38;5;124mfigure.draw_without_rendering()\u001b[39m\u001b[38;5;124m'\u001b[39m\u001b[38;5;124m first.\u001b[39m\u001b[38;5;124m\"\u001b[39m)\n\u001b[1;32m    958\u001b[0m \u001b[38;5;28;01mwith\u001b[39;00m cbook\u001b[38;5;241m.\u001b[39m_setattr_cm(\u001b[38;5;28mself\u001b[39m\u001b[38;5;241m.\u001b[39mfigure, dpi\u001b[38;5;241m=\u001b[39mdpi):\n\u001b[0;32m--> 959\u001b[0m     bbox, info, descent \u001b[38;5;241m=\u001b[39m \u001b[38;5;28;43mself\u001b[39;49m\u001b[38;5;241;43m.\u001b[39;49m\u001b[43m_get_layout\u001b[49m\u001b[43m(\u001b[49m\u001b[38;5;28;43mself\u001b[39;49m\u001b[38;5;241;43m.\u001b[39;49m\u001b[43m_renderer\u001b[49m\u001b[43m)\u001b[49m\n\u001b[1;32m    960\u001b[0m     x, y \u001b[38;5;241m=\u001b[39m \u001b[38;5;28mself\u001b[39m\u001b[38;5;241m.\u001b[39mget_unitless_position()\n\u001b[1;32m    961\u001b[0m     x, y \u001b[38;5;241m=\u001b[39m \u001b[38;5;28mself\u001b[39m\u001b[38;5;241m.\u001b[39mget_transform()\u001b[38;5;241m.\u001b[39mtransform((x, y))\n",
      "File \u001b[0;32m/opt/anaconda3/envs/sage/lib/python3.9/site-packages/matplotlib/text.py:373\u001b[0m, in \u001b[0;36mText._get_layout\u001b[0;34m(self, renderer)\u001b[0m\n\u001b[1;32m    370\u001b[0m ys \u001b[38;5;241m=\u001b[39m []\n\u001b[1;32m    372\u001b[0m \u001b[38;5;66;03m# Full vertical extent of font, including ascenders and descenders:\u001b[39;00m\n\u001b[0;32m--> 373\u001b[0m _, lp_h, lp_d \u001b[38;5;241m=\u001b[39m \u001b[43m_get_text_metrics_with_cache\u001b[49m\u001b[43m(\u001b[49m\n\u001b[1;32m    374\u001b[0m \u001b[43m    \u001b[49m\u001b[43mrenderer\u001b[49m\u001b[43m,\u001b[49m\u001b[43m \u001b[49m\u001b[38;5;124;43m\"\u001b[39;49m\u001b[38;5;124;43mlp\u001b[39;49m\u001b[38;5;124;43m\"\u001b[39;49m\u001b[43m,\u001b[49m\u001b[43m \u001b[49m\u001b[38;5;28;43mself\u001b[39;49m\u001b[38;5;241;43m.\u001b[39;49m\u001b[43m_fontproperties\u001b[49m\u001b[43m,\u001b[49m\n\u001b[1;32m    375\u001b[0m \u001b[43m    \u001b[49m\u001b[43mismath\u001b[49m\u001b[38;5;241;43m=\u001b[39;49m\u001b[38;5;124;43m\"\u001b[39;49m\u001b[38;5;124;43mTeX\u001b[39;49m\u001b[38;5;124;43m\"\u001b[39;49m\u001b[43m \u001b[49m\u001b[38;5;28;43;01mif\u001b[39;49;00m\u001b[43m \u001b[49m\u001b[38;5;28;43mself\u001b[39;49m\u001b[38;5;241;43m.\u001b[39;49m\u001b[43mget_usetex\u001b[49m\u001b[43m(\u001b[49m\u001b[43m)\u001b[49m\u001b[43m \u001b[49m\u001b[38;5;28;43;01melse\u001b[39;49;00m\u001b[43m \u001b[49m\u001b[38;5;28;43;01mFalse\u001b[39;49;00m\u001b[43m,\u001b[49m\u001b[43m \u001b[49m\u001b[43mdpi\u001b[49m\u001b[38;5;241;43m=\u001b[39;49m\u001b[38;5;28;43mself\u001b[39;49m\u001b[38;5;241;43m.\u001b[39;49m\u001b[43mfigure\u001b[49m\u001b[38;5;241;43m.\u001b[39;49m\u001b[43mdpi\u001b[49m\u001b[43m)\u001b[49m\n\u001b[1;32m    376\u001b[0m min_dy \u001b[38;5;241m=\u001b[39m (lp_h \u001b[38;5;241m-\u001b[39m lp_d) \u001b[38;5;241m*\u001b[39m \u001b[38;5;28mself\u001b[39m\u001b[38;5;241m.\u001b[39m_linespacing\n\u001b[1;32m    378\u001b[0m \u001b[38;5;28;01mfor\u001b[39;00m i, line \u001b[38;5;129;01min\u001b[39;00m \u001b[38;5;28menumerate\u001b[39m(lines):\n",
      "File \u001b[0;32m/opt/anaconda3/envs/sage/lib/python3.9/site-packages/matplotlib/text.py:69\u001b[0m, in \u001b[0;36m_get_text_metrics_with_cache\u001b[0;34m(renderer, text, fontprop, ismath, dpi)\u001b[0m\n\u001b[1;32m     66\u001b[0m \u001b[38;5;250m\u001b[39m\u001b[38;5;124;03m\"\"\"Call ``renderer.get_text_width_height_descent``, caching the results.\"\"\"\u001b[39;00m\n\u001b[1;32m     67\u001b[0m \u001b[38;5;66;03m# Cached based on a copy of fontprop so that later in-place mutations of\u001b[39;00m\n\u001b[1;32m     68\u001b[0m \u001b[38;5;66;03m# the passed-in argument do not mess up the cache.\u001b[39;00m\n\u001b[0;32m---> 69\u001b[0m \u001b[38;5;28;01mreturn\u001b[39;00m \u001b[43m_get_text_metrics_with_cache_impl\u001b[49m\u001b[43m(\u001b[49m\n\u001b[1;32m     70\u001b[0m \u001b[43m    \u001b[49m\u001b[43mweakref\u001b[49m\u001b[38;5;241;43m.\u001b[39;49m\u001b[43mref\u001b[49m\u001b[43m(\u001b[49m\u001b[43mrenderer\u001b[49m\u001b[43m)\u001b[49m\u001b[43m,\u001b[49m\u001b[43m \u001b[49m\u001b[43mtext\u001b[49m\u001b[43m,\u001b[49m\u001b[43m \u001b[49m\u001b[43mfontprop\u001b[49m\u001b[38;5;241;43m.\u001b[39;49m\u001b[43mcopy\u001b[49m\u001b[43m(\u001b[49m\u001b[43m)\u001b[49m\u001b[43m,\u001b[49m\u001b[43m \u001b[49m\u001b[43mismath\u001b[49m\u001b[43m,\u001b[49m\u001b[43m \u001b[49m\u001b[43mdpi\u001b[49m\u001b[43m)\u001b[49m\n",
      "File \u001b[0;32m/opt/anaconda3/envs/sage/lib/python3.9/site-packages/matplotlib/text.py:77\u001b[0m, in \u001b[0;36m_get_text_metrics_with_cache_impl\u001b[0;34m(renderer_ref, text, fontprop, ismath, dpi)\u001b[0m\n\u001b[1;32m     73\u001b[0m \u001b[38;5;129m@functools\u001b[39m\u001b[38;5;241m.\u001b[39mlru_cache(\u001b[38;5;241m4096\u001b[39m)\n\u001b[1;32m     74\u001b[0m \u001b[38;5;28;01mdef\u001b[39;00m \u001b[38;5;21m_get_text_metrics_with_cache_impl\u001b[39m(\n\u001b[1;32m     75\u001b[0m         renderer_ref, text, fontprop, ismath, dpi):\n\u001b[1;32m     76\u001b[0m     \u001b[38;5;66;03m# dpi is unused, but participates in cache invalidation (via the renderer).\u001b[39;00m\n\u001b[0;32m---> 77\u001b[0m     \u001b[38;5;28;01mreturn\u001b[39;00m \u001b[43mrenderer_ref\u001b[49m\u001b[43m(\u001b[49m\u001b[43m)\u001b[49m\u001b[38;5;241;43m.\u001b[39;49m\u001b[43mget_text_width_height_descent\u001b[49m\u001b[43m(\u001b[49m\u001b[43mtext\u001b[49m\u001b[43m,\u001b[49m\u001b[43m \u001b[49m\u001b[43mfontprop\u001b[49m\u001b[43m,\u001b[49m\u001b[43m \u001b[49m\u001b[43mismath\u001b[49m\u001b[43m)\u001b[49m\n",
      "File \u001b[0;32m/opt/anaconda3/envs/sage/lib/python3.9/site-packages/matplotlib/backends/backend_agg.py:212\u001b[0m, in \u001b[0;36mRendererAgg.get_text_width_height_descent\u001b[0;34m(self, s, prop, ismath)\u001b[0m\n\u001b[1;32m    210\u001b[0m _api\u001b[38;5;241m.\u001b[39mcheck_in_list([\u001b[38;5;124m\"\u001b[39m\u001b[38;5;124mTeX\u001b[39m\u001b[38;5;124m\"\u001b[39m, \u001b[38;5;28;01mTrue\u001b[39;00m, \u001b[38;5;28;01mFalse\u001b[39;00m], ismath\u001b[38;5;241m=\u001b[39mismath)\n\u001b[1;32m    211\u001b[0m \u001b[38;5;28;01mif\u001b[39;00m ismath \u001b[38;5;241m==\u001b[39m \u001b[38;5;124m\"\u001b[39m\u001b[38;5;124mTeX\u001b[39m\u001b[38;5;124m\"\u001b[39m:\n\u001b[0;32m--> 212\u001b[0m     \u001b[38;5;28;01mreturn\u001b[39;00m \u001b[38;5;28;43msuper\u001b[39;49m\u001b[43m(\u001b[49m\u001b[43m)\u001b[49m\u001b[38;5;241;43m.\u001b[39;49m\u001b[43mget_text_width_height_descent\u001b[49m\u001b[43m(\u001b[49m\u001b[43ms\u001b[49m\u001b[43m,\u001b[49m\u001b[43m \u001b[49m\u001b[43mprop\u001b[49m\u001b[43m,\u001b[49m\u001b[43m \u001b[49m\u001b[43mismath\u001b[49m\u001b[43m)\u001b[49m\n\u001b[1;32m    214\u001b[0m \u001b[38;5;28;01mif\u001b[39;00m ismath:\n\u001b[1;32m    215\u001b[0m     ox, oy, width, height, descent, font_image \u001b[38;5;241m=\u001b[39m \\\n\u001b[1;32m    216\u001b[0m         \u001b[38;5;28mself\u001b[39m\u001b[38;5;241m.\u001b[39mmathtext_parser\u001b[38;5;241m.\u001b[39mparse(s, \u001b[38;5;28mself\u001b[39m\u001b[38;5;241m.\u001b[39mdpi, prop)\n",
      "File \u001b[0;32m/opt/anaconda3/envs/sage/lib/python3.9/site-packages/matplotlib/backend_bases.py:597\u001b[0m, in \u001b[0;36mRendererBase.get_text_width_height_descent\u001b[0;34m(self, s, prop, ismath)\u001b[0m\n\u001b[1;32m    593\u001b[0m fontsize \u001b[38;5;241m=\u001b[39m prop\u001b[38;5;241m.\u001b[39mget_size_in_points()\n\u001b[1;32m    595\u001b[0m \u001b[38;5;28;01mif\u001b[39;00m ismath \u001b[38;5;241m==\u001b[39m \u001b[38;5;124m'\u001b[39m\u001b[38;5;124mTeX\u001b[39m\u001b[38;5;124m'\u001b[39m:\n\u001b[1;32m    596\u001b[0m     \u001b[38;5;66;03m# todo: handle properties\u001b[39;00m\n\u001b[0;32m--> 597\u001b[0m     \u001b[38;5;28;01mreturn\u001b[39;00m \u001b[38;5;28;43mself\u001b[39;49m\u001b[38;5;241;43m.\u001b[39;49m\u001b[43mget_texmanager\u001b[49m\u001b[43m(\u001b[49m\u001b[43m)\u001b[49m\u001b[38;5;241;43m.\u001b[39;49m\u001b[43mget_text_width_height_descent\u001b[49m\u001b[43m(\u001b[49m\n\u001b[1;32m    598\u001b[0m \u001b[43m        \u001b[49m\u001b[43ms\u001b[49m\u001b[43m,\u001b[49m\u001b[43m \u001b[49m\u001b[43mfontsize\u001b[49m\u001b[43m,\u001b[49m\u001b[43m \u001b[49m\u001b[43mrenderer\u001b[49m\u001b[38;5;241;43m=\u001b[39;49m\u001b[38;5;28;43mself\u001b[39;49m\u001b[43m)\u001b[49m\n\u001b[1;32m    600\u001b[0m dpi \u001b[38;5;241m=\u001b[39m \u001b[38;5;28mself\u001b[39m\u001b[38;5;241m.\u001b[39mpoints_to_pixels(\u001b[38;5;241m72\u001b[39m)\n\u001b[1;32m    601\u001b[0m \u001b[38;5;28;01mif\u001b[39;00m ismath:\n",
      "File \u001b[0;32m/opt/anaconda3/envs/sage/lib/python3.9/site-packages/matplotlib/texmanager.py:363\u001b[0m, in \u001b[0;36mTexManager.get_text_width_height_descent\u001b[0;34m(cls, tex, fontsize, renderer)\u001b[0m\n\u001b[1;32m    361\u001b[0m \u001b[38;5;28;01mif\u001b[39;00m tex\u001b[38;5;241m.\u001b[39mstrip() \u001b[38;5;241m==\u001b[39m \u001b[38;5;124m'\u001b[39m\u001b[38;5;124m'\u001b[39m:\n\u001b[1;32m    362\u001b[0m     \u001b[38;5;28;01mreturn\u001b[39;00m \u001b[38;5;241m0\u001b[39m, \u001b[38;5;241m0\u001b[39m, \u001b[38;5;241m0\u001b[39m\n\u001b[0;32m--> 363\u001b[0m dvifile \u001b[38;5;241m=\u001b[39m \u001b[38;5;28;43mcls\u001b[39;49m\u001b[38;5;241;43m.\u001b[39;49m\u001b[43mmake_dvi\u001b[49m\u001b[43m(\u001b[49m\u001b[43mtex\u001b[49m\u001b[43m,\u001b[49m\u001b[43m \u001b[49m\u001b[43mfontsize\u001b[49m\u001b[43m)\u001b[49m\n\u001b[1;32m    364\u001b[0m dpi_fraction \u001b[38;5;241m=\u001b[39m renderer\u001b[38;5;241m.\u001b[39mpoints_to_pixels(\u001b[38;5;241m1.\u001b[39m) \u001b[38;5;28;01mif\u001b[39;00m renderer \u001b[38;5;28;01melse\u001b[39;00m \u001b[38;5;241m1\u001b[39m\n\u001b[1;32m    365\u001b[0m \u001b[38;5;28;01mwith\u001b[39;00m dviread\u001b[38;5;241m.\u001b[39mDvi(dvifile, \u001b[38;5;241m72\u001b[39m \u001b[38;5;241m*\u001b[39m dpi_fraction) \u001b[38;5;28;01mas\u001b[39;00m dvi:\n",
      "File \u001b[0;32m/opt/anaconda3/envs/sage/lib/python3.9/site-packages/matplotlib/texmanager.py:295\u001b[0m, in \u001b[0;36mTexManager.make_dvi\u001b[0;34m(cls, tex, fontsize)\u001b[0m\n\u001b[1;32m    293\u001b[0m     \u001b[38;5;28;01mwith\u001b[39;00m TemporaryDirectory(\u001b[38;5;28mdir\u001b[39m\u001b[38;5;241m=\u001b[39mcwd) \u001b[38;5;28;01mas\u001b[39;00m tmpdir:\n\u001b[1;32m    294\u001b[0m         tmppath \u001b[38;5;241m=\u001b[39m Path(tmpdir)\n\u001b[0;32m--> 295\u001b[0m         \u001b[38;5;28;43mcls\u001b[39;49m\u001b[38;5;241;43m.\u001b[39;49m\u001b[43m_run_checked_subprocess\u001b[49m\u001b[43m(\u001b[49m\n\u001b[1;32m    296\u001b[0m \u001b[43m            \u001b[49m\u001b[43m[\u001b[49m\u001b[38;5;124;43m\"\u001b[39;49m\u001b[38;5;124;43mlatex\u001b[39;49m\u001b[38;5;124;43m\"\u001b[39;49m\u001b[43m,\u001b[49m\u001b[43m \u001b[49m\u001b[38;5;124;43m\"\u001b[39;49m\u001b[38;5;124;43m-interaction=nonstopmode\u001b[39;49m\u001b[38;5;124;43m\"\u001b[39;49m\u001b[43m,\u001b[49m\u001b[43m \u001b[49m\u001b[38;5;124;43m\"\u001b[39;49m\u001b[38;5;124;43m--halt-on-error\u001b[39;49m\u001b[38;5;124;43m\"\u001b[39;49m\u001b[43m,\u001b[49m\n\u001b[1;32m    297\u001b[0m \u001b[43m             \u001b[49m\u001b[38;5;124;43mf\u001b[39;49m\u001b[38;5;124;43m\"\u001b[39;49m\u001b[38;5;124;43m--output-directory=\u001b[39;49m\u001b[38;5;132;43;01m{\u001b[39;49;00m\u001b[43mtmppath\u001b[49m\u001b[38;5;241;43m.\u001b[39;49m\u001b[43mname\u001b[49m\u001b[38;5;132;43;01m}\u001b[39;49;00m\u001b[38;5;124;43m\"\u001b[39;49m\u001b[43m,\u001b[49m\n\u001b[1;32m    298\u001b[0m \u001b[43m             \u001b[49m\u001b[38;5;124;43mf\u001b[39;49m\u001b[38;5;124;43m\"\u001b[39;49m\u001b[38;5;132;43;01m{\u001b[39;49;00m\u001b[43mtexfile\u001b[49m\u001b[38;5;241;43m.\u001b[39;49m\u001b[43mname\u001b[49m\u001b[38;5;132;43;01m}\u001b[39;49;00m\u001b[38;5;124;43m\"\u001b[39;49m\u001b[43m]\u001b[49m\u001b[43m,\u001b[49m\u001b[43m \u001b[49m\u001b[43mtex\u001b[49m\u001b[43m,\u001b[49m\u001b[43m \u001b[49m\u001b[43mcwd\u001b[49m\u001b[38;5;241;43m=\u001b[39;49m\u001b[43mcwd\u001b[49m\u001b[43m)\u001b[49m\n\u001b[1;32m    299\u001b[0m         (tmppath \u001b[38;5;241m/\u001b[39m Path(dvifile)\u001b[38;5;241m.\u001b[39mname)\u001b[38;5;241m.\u001b[39mreplace(dvifile)\n\u001b[1;32m    300\u001b[0m \u001b[38;5;28;01mreturn\u001b[39;00m dvifile\n",
      "File \u001b[0;32m/opt/anaconda3/envs/sage/lib/python3.9/site-packages/matplotlib/texmanager.py:254\u001b[0m, in \u001b[0;36mTexManager._run_checked_subprocess\u001b[0;34m(cls, command, tex, cwd)\u001b[0m\n\u001b[1;32m    250\u001b[0m     report \u001b[38;5;241m=\u001b[39m subprocess\u001b[38;5;241m.\u001b[39mcheck_output(\n\u001b[1;32m    251\u001b[0m         command, cwd\u001b[38;5;241m=\u001b[39mcwd \u001b[38;5;28;01mif\u001b[39;00m cwd \u001b[38;5;129;01mis\u001b[39;00m \u001b[38;5;129;01mnot\u001b[39;00m \u001b[38;5;28;01mNone\u001b[39;00m \u001b[38;5;28;01melse\u001b[39;00m \u001b[38;5;28mcls\u001b[39m\u001b[38;5;241m.\u001b[39m_texcache,\n\u001b[1;32m    252\u001b[0m         stderr\u001b[38;5;241m=\u001b[39msubprocess\u001b[38;5;241m.\u001b[39mSTDOUT)\n\u001b[1;32m    253\u001b[0m \u001b[38;5;28;01mexcept\u001b[39;00m \u001b[38;5;167;01mFileNotFoundError\u001b[39;00m \u001b[38;5;28;01mas\u001b[39;00m exc:\n\u001b[0;32m--> 254\u001b[0m     \u001b[38;5;28;01mraise\u001b[39;00m \u001b[38;5;167;01mRuntimeError\u001b[39;00m(\n\u001b[1;32m    255\u001b[0m         \u001b[38;5;124mf\u001b[39m\u001b[38;5;124m'\u001b[39m\u001b[38;5;124mFailed to process string with tex because \u001b[39m\u001b[38;5;132;01m{\u001b[39;00mcommand[\u001b[38;5;241m0\u001b[39m]\u001b[38;5;132;01m}\u001b[39;00m\u001b[38;5;124m \u001b[39m\u001b[38;5;124m'\u001b[39m\n\u001b[1;32m    256\u001b[0m         \u001b[38;5;124m'\u001b[39m\u001b[38;5;124mcould not be found\u001b[39m\u001b[38;5;124m'\u001b[39m) \u001b[38;5;28;01mfrom\u001b[39;00m \u001b[38;5;21;01mexc\u001b[39;00m\n\u001b[1;32m    257\u001b[0m \u001b[38;5;28;01mexcept\u001b[39;00m subprocess\u001b[38;5;241m.\u001b[39mCalledProcessError \u001b[38;5;28;01mas\u001b[39;00m exc:\n\u001b[1;32m    258\u001b[0m     \u001b[38;5;28;01mraise\u001b[39;00m \u001b[38;5;167;01mRuntimeError\u001b[39;00m(\n\u001b[1;32m    259\u001b[0m         \u001b[38;5;124m'\u001b[39m\u001b[38;5;132;01m{prog}\u001b[39;00m\u001b[38;5;124m was not able to process the following string:\u001b[39m\u001b[38;5;130;01m\\n\u001b[39;00m\u001b[38;5;124m'\u001b[39m\n\u001b[1;32m    260\u001b[0m         \u001b[38;5;124m'\u001b[39m\u001b[38;5;132;01m{tex!r}\u001b[39;00m\u001b[38;5;130;01m\\n\u001b[39;00m\u001b[38;5;130;01m\\n\u001b[39;00m\u001b[38;5;124m'\u001b[39m\n\u001b[0;32m   (...)\u001b[0m\n\u001b[1;32m    267\u001b[0m             exc\u001b[38;5;241m=\u001b[39mexc\u001b[38;5;241m.\u001b[39moutput\u001b[38;5;241m.\u001b[39mdecode(\u001b[38;5;124m'\u001b[39m\u001b[38;5;124mutf-8\u001b[39m\u001b[38;5;124m'\u001b[39m, \u001b[38;5;124m'\u001b[39m\u001b[38;5;124mbackslashreplace\u001b[39m\u001b[38;5;124m'\u001b[39m))\n\u001b[1;32m    268\u001b[0m         ) \u001b[38;5;28;01mfrom\u001b[39;00m \u001b[38;5;28;01mNone\u001b[39;00m\n",
      "\u001b[0;31mRuntimeError\u001b[0m: Failed to process string with tex because latex could not be found"
     ]
    },
    {
     "data": {
      "text/plain": [
       "<Figure size 1600x1200 with 1 Axes>"
      ]
     },
     "metadata": {},
     "output_type": "display_data"
    }
   ],
   "source": [
    "%run utils.ipynb\n",
    "first_k = 20; last_k = 50;\n",
    "extent_code(first_k, last_k)"
   ]
  },
  {
   "cell_type": "code",
   "execution_count": 5,
   "id": "3385fdc0-6ac1-4d1c-b25d-08b6974c6501",
   "metadata": {},
   "outputs": [
    {
     "name": "stdout",
     "output_type": "stream",
     "text": [
      "1\n",
      "-2\n",
      "3\n",
      "-4\n",
      "5\n"
     ]
    }
   ],
   "source": [
    "for i in range(1, 5 + 1):\n",
    "    print(i if i % 2 != 0 else -i)"
   ]
  },
  {
   "cell_type": "code",
   "execution_count": 9,
   "id": "5fc9ce94-1e0a-4246-a062-586b6273c1b0",
   "metadata": {},
   "outputs": [
    {
     "data": {
      "text/plain": [
       "2^2 * 3^2 * 5^2"
      ]
     },
     "execution_count": 9,
     "metadata": {},
     "output_type": "execute_result"
    }
   ],
   "source": [
    "R = QQ['x']\n",
    "x = R.gen()\n",
    "(x^4-x^3+2*x^2+x+1).discriminant().factor()"
   ]
  },
  {
   "cell_type": "code",
   "execution_count": 14,
   "id": "0016def9-8b1c-44c6-a8e5-37b4ed8da991",
   "metadata": {},
   "outputs": [
    {
     "data": {
      "text/plain": [
       "[1, 13]"
      ]
     },
     "execution_count": 14,
     "metadata": {},
     "output_type": "execute_result"
    }
   ],
   "source": [
    "ell_options(14)"
   ]
  },
  {
   "cell_type": "code",
   "execution_count": 11,
   "id": "eee01929-d894-4608-8c55-13489e56520d",
   "metadata": {},
   "outputs": [],
   "source": [
    "F.<a>=QuadraticField(5)"
   ]
  },
  {
   "cell_type": "code",
   "execution_count": 12,
   "id": "d84f94ba-1fd7-44fe-9531-88ef50cf12dc",
   "metadata": {},
   "outputs": [],
   "source": [
    "I=F.ideal([2,1+a])"
   ]
  },
  {
   "cell_type": "code",
   "execution_count": 13,
   "id": "39b6c32e-7367-41a6-9264-eb78efef2437",
   "metadata": {},
   "outputs": [
    {
     "data": {
      "text/plain": [
       "Fractional ideal (2)"
      ]
     },
     "execution_count": 13,
     "metadata": {},
     "output_type": "execute_result"
    }
   ],
   "source": [
    "I"
   ]
  },
  {
   "cell_type": "code",
   "execution_count": 1,
   "id": "82b3fc85-cc8c-49cc-b812-500a10c3a218",
   "metadata": {},
   "outputs": [
    {
     "ename": "SyntaxError",
     "evalue": "invalid syntax (3844178809.py, line 1)",
     "output_type": "error",
     "traceback": [
      "\u001b[0;36m  Cell \u001b[0;32mIn[1], line 1\u001b[0;36m\u001b[0m\n\u001b[0;31m    F.<a> = QuadraticField(-15)\u001b[0m\n\u001b[0m      ^\u001b[0m\n\u001b[0;31mSyntaxError\u001b[0m\u001b[0;31m:\u001b[0m invalid syntax\n"
     ]
    }
   ],
   "source": [
    "F.<a> = QuadraticField(-15)"
   ]
  },
  {
   "cell_type": "code",
   "execution_count": 6,
   "id": "4cd6896a-0340-49d7-9565-15ca1cf8d89f",
   "metadata": {},
   "outputs": [],
   "source": [
    "from sage.all import CyclotomicField\n",
    "z = CyclotomicField(15, names = 'ζ').gen()"
   ]
  },
  {
   "cell_type": "code",
   "execution_count": 7,
   "id": "e1a36ec4-b23e-4599-9839-3bab703d883c",
   "metadata": {},
   "outputs": [
    {
     "data": {
      "text/plain": [
       "ζ"
      ]
     },
     "execution_count": 7,
     "metadata": {},
     "output_type": "execute_result"
    }
   ],
   "source": [
    "z"
   ]
  },
  {
   "cell_type": "code",
   "execution_count": 8,
   "id": "16b642f7-76e6-404d-bce9-11c7b670dd81",
   "metadata": {},
   "outputs": [],
   "source": [
    "eta = (z-15)*(15-z^4)"
   ]
  },
  {
   "cell_type": "code",
   "execution_count": 9,
   "id": "8270e298-a46e-4153-bedc-91dc224565c8",
   "metadata": {},
   "outputs": [],
   "source": [
    "K.<z> = CyclotomicField(15)"
   ]
  },
  {
   "cell_type": "code",
   "execution_count": 10,
   "id": "862c9236-30cc-4f33-b77b-6944abdad383",
   "metadata": {},
   "outputs": [],
   "source": [
    "eta = K((z-15)*(15-z^4))"
   ]
  },
  {
   "cell_type": "code",
   "execution_count": 11,
   "id": "188cd1d6-3067-439d-9c07-9214ffc945f5",
   "metadata": {},
   "outputs": [],
   "source": [
    "p = eta.minpoly()"
   ]
  },
  {
   "cell_type": "code",
   "execution_count": 12,
   "id": "16740d96-07af-430f-bcfc-d5cd2833a377",
   "metadata": {},
   "outputs": [
    {
     "data": {
      "text/plain": [
       "x^4 + 883*x^3 + 292728*x^2 + 43186723*x + 2392743361"
      ]
     },
     "execution_count": 12,
     "metadata": {},
     "output_type": "execute_result"
    }
   ],
   "source": [
    "p"
   ]
  },
  {
   "cell_type": "code",
   "execution_count": 15,
   "id": "ecfcc919-f06e-4e8d-a41e-9ad3a5807962",
   "metadata": {},
   "outputs": [],
   "source": [
    "L.<eta> = QQ.extension(x^4 + 883*x^3 + 292728*x^2 + 43186723*x + 2392743361)"
   ]
  },
  {
   "cell_type": "code",
   "execution_count": 16,
   "id": "71af5ef0-5d95-4488-99c9-2c28bf59ddae",
   "metadata": {},
   "outputs": [
    {
     "data": {
      "text/plain": [
       "Number Field in eta with defining polynomial x^4 + 883*x^3 + 292728*x^2 + 43186723*x + 2392743361"
      ]
     },
     "execution_count": 16,
     "metadata": {},
     "output_type": "execute_result"
    }
   ],
   "source": [
    "L"
   ]
  },
  {
   "cell_type": "code",
   "execution_count": 17,
   "id": "f8ef6b4d-5f93-45ae-98bd-f38b1cfc56ac",
   "metadata": {},
   "outputs": [
    {
     "data": {
      "text/plain": [
       "[\n",
       "(Number Field in eta0 with defining polynomial x + 883, Ring morphism:\n",
       "  From: Number Field in eta0 with defining polynomial x + 883\n",
       "  To:   Number Field in eta with defining polynomial x^4 + 883*x^3 + 292728*x^2 + 43186723*x + 2392743361\n",
       "  Defn: -883 |--> -883, None),\n",
       "(Number Field in eta1 with defining polynomial x^2 + 883*x + 195049, Ring morphism:\n",
       "  From: Number Field in eta1 with defining polynomial x^2 + 883*x + 195049\n",
       "  To:   Number Field in eta with defining polynomial x^4 + 883*x^3 + 292728*x^2 + 43186723*x + 2392743361\n",
       "  Defn: eta1 |--> -169/97512*eta^3 - 4511/4063*eta^2 - 963833/4063*eta - 1691717203/97512, None),\n",
       "(Number Field in eta2 with defining polynomial x^2 + 883*x + 195766, Ring morphism:\n",
       "  From: Number Field in eta2 with defining polynomial x^2 + 883*x + 195766\n",
       "  To:   Number Field in eta with defining polynomial x^4 + 883*x^3 + 292728*x^2 + 43186723*x + 2392743361\n",
       "  Defn: eta2 |--> 1/239*eta^3 + 659/239*eta^2 + 145351/239*eta + 10628099/239, None),\n",
       "(Number Field in eta3 with defining polynomial x^2 + 883*x + 194641, Ring morphism:\n",
       "  From: Number Field in eta3 with defining polynomial x^2 + 883*x + 194641\n",
       "  To:   Number Field in eta with defining polynomial x^4 + 883*x^3 + 292728*x^2 + 43186723*x + 2392743361\n",
       "  Defn: eta3 |--> -1/408*eta^3 - 28/17*eta^2 - 6272/17*eta - 11425315/408, None),\n",
       "(Number Field in eta4 with defining polynomial x^4 + 883*x^3 + 292728*x^2 + 43186723*x + 2392743361, Ring morphism:\n",
       "  From: Number Field in eta4 with defining polynomial x^4 + 883*x^3 + 292728*x^2 + 43186723*x + 2392743361\n",
       "  To:   Number Field in eta with defining polynomial x^4 + 883*x^3 + 292728*x^2 + 43186723*x + 2392743361\n",
       "  Defn: eta4 |--> eta, Ring morphism:\n",
       "  From: Number Field in eta with defining polynomial x^4 + 883*x^3 + 292728*x^2 + 43186723*x + 2392743361\n",
       "  To:   Number Field in eta4 with defining polynomial x^4 + 883*x^3 + 292728*x^2 + 43186723*x + 2392743361\n",
       "  Defn: eta |--> eta4)\n",
       "]"
      ]
     },
     "execution_count": 17,
     "metadata": {},
     "output_type": "execute_result"
    }
   ],
   "source": [
    "L.subfields()"
   ]
  },
  {
   "cell_type": "code",
   "execution_count": 18,
   "id": "413f9514-57d5-4289-b4fe-c9cf56d62a47",
   "metadata": {},
   "outputs": [
    {
     "data": {
      "text/plain": [
       "x^4 - x^3 + 2*x^2 + x + 1"
      ]
     },
     "execution_count": 18,
     "metadata": {},
     "output_type": "execute_result"
    }
   ],
   "source": [
    "gp.polredabs(x^4 + 883*x^3 + 292728*x^2 + 43186723*x + 2392743361)"
   ]
  },
  {
   "cell_type": "code",
   "execution_count": 19,
   "id": "0933bee9-dcba-40ff-b746-ef0102a1c8e3",
   "metadata": {},
   "outputs": [
    {
     "data": {
      "text/plain": [
       "[\n",
       "(Number Field in eta0 with defining polynomial x + 883, Ring morphism:\n",
       "  From: Number Field in eta0 with defining polynomial x + 883\n",
       "  To:   Number Field in eta with defining polynomial x^4 + 883*x^3 + 292728*x^2 + 43186723*x + 2392743361\n",
       "  Defn: -883 |--> -883, None),\n",
       "(Number Field in eta1 with defining polynomial x^2 + 883*x + 195049, Ring morphism:\n",
       "  From: Number Field in eta1 with defining polynomial x^2 + 883*x + 195049\n",
       "  To:   Number Field in eta with defining polynomial x^4 + 883*x^3 + 292728*x^2 + 43186723*x + 2392743361\n",
       "  Defn: eta1 |--> -169/97512*eta^3 - 4511/4063*eta^2 - 963833/4063*eta - 1691717203/97512, None),\n",
       "(Number Field in eta2 with defining polynomial x^2 + 883*x + 195766, Ring morphism:\n",
       "  From: Number Field in eta2 with defining polynomial x^2 + 883*x + 195766\n",
       "  To:   Number Field in eta with defining polynomial x^4 + 883*x^3 + 292728*x^2 + 43186723*x + 2392743361\n",
       "  Defn: eta2 |--> 1/239*eta^3 + 659/239*eta^2 + 145351/239*eta + 10628099/239, None),\n",
       "(Number Field in eta3 with defining polynomial x^2 + 883*x + 194641, Ring morphism:\n",
       "  From: Number Field in eta3 with defining polynomial x^2 + 883*x + 194641\n",
       "  To:   Number Field in eta with defining polynomial x^4 + 883*x^3 + 292728*x^2 + 43186723*x + 2392743361\n",
       "  Defn: eta3 |--> -1/408*eta^3 - 28/17*eta^2 - 6272/17*eta - 11425315/408, None),\n",
       "(Number Field in eta4 with defining polynomial x^4 + 883*x^3 + 292728*x^2 + 43186723*x + 2392743361, Ring morphism:\n",
       "  From: Number Field in eta4 with defining polynomial x^4 + 883*x^3 + 292728*x^2 + 43186723*x + 2392743361\n",
       "  To:   Number Field in eta with defining polynomial x^4 + 883*x^3 + 292728*x^2 + 43186723*x + 2392743361\n",
       "  Defn: eta4 |--> eta, Ring morphism:\n",
       "  From: Number Field in eta with defining polynomial x^4 + 883*x^3 + 292728*x^2 + 43186723*x + 2392743361\n",
       "  To:   Number Field in eta4 with defining polynomial x^4 + 883*x^3 + 292728*x^2 + 43186723*x + 2392743361\n",
       "  Defn: eta |--> eta4)\n",
       "]"
      ]
     },
     "execution_count": 19,
     "metadata": {},
     "output_type": "execute_result"
    }
   ],
   "source": [
    "L.subfields()"
   ]
  },
  {
   "cell_type": "code",
   "execution_count": 22,
   "id": "5c142ca2-1865-4c07-93ed-5c14f7fa3d2a",
   "metadata": {},
   "outputs": [
    {
     "data": {
      "text/plain": [
       "[1, -3, -15, 5, 225]"
      ]
     },
     "execution_count": 22,
     "metadata": {},
     "output_type": "execute_result"
    }
   ],
   "source": [
    "[F.discriminant() for (F, *o) in L.subfields()]"
   ]
  },
  {
   "cell_type": "code",
   "execution_count": 2,
   "id": "46396137-c711-4b65-8a23-eeb2c8f40961",
   "metadata": {},
   "outputs": [],
   "source": [
    "disc = 50.factor()"
   ]
  },
  {
   "cell_type": "code",
   "execution_count": 1,
   "id": "8addaaf4-1721-49bb-9b35-325760a695da",
   "metadata": {},
   "outputs": [
    {
     "ename": "TypeError",
     "evalue": "'function' object is not iterable",
     "output_type": "error",
     "traceback": [
      "\u001b[0;31m---------------------------------------------------------------------------\u001b[0m",
      "\u001b[0;31mTypeError\u001b[0m                                 Traceback (most recent call last)",
      "Cell \u001b[0;32mIn[1], line 1\u001b[0m\n\u001b[0;32m----> 1\u001b[0m [p \u001b[38;5;28;01mfor\u001b[39;00m p,e \u001b[38;5;129;01min\u001b[39;00m disc]\n",
      "\u001b[0;31mTypeError\u001b[0m: 'function' object is not iterable"
     ]
    }
   ],
   "source": [
    "[p for p,e in disc]"
   ]
  },
  {
   "cell_type": "code",
   "execution_count": 4,
   "id": "fd2f57a4-1bfa-406e-abe1-9ba04a5b616f",
   "metadata": {},
   "outputs": [],
   "source": [
    "R = QQ['x']\n",
    "x = R.gen()\n",
    "poly = x^4+884*x^3+293206*x^2+43243679*x+2392743361\n",
    "def tttry(polynomial):\n",
    "    i = 0\n",
    "    while polynomial.subs(x=i) % 19 != 0 and i<500:\n",
    "        print(i)\n",
    "        i += 1\n",
    "    print(i)    "
   ]
  },
  {
   "cell_type": "code",
   "execution_count": 5,
   "id": "b67d8660-83b1-451b-9417-696e1f851a72",
   "metadata": {},
   "outputs": [
    {
     "name": "stdout",
     "output_type": "stream",
     "text": [
      "0\n",
      "1\n",
      "2\n",
      "3\n",
      "4\n"
     ]
    }
   ],
   "source": [
    "tttry(poly)\n"
   ]
  },
  {
   "cell_type": "code",
   "execution_count": 7,
   "id": "647fe148-cbe5-46a5-9f03-cbf7894ef777",
   "metadata": {},
   "outputs": [
    {
     "data": {
      "text/plain": [
       "5 * 19^2 * 151 * 9431"
      ]
     },
     "execution_count": 7,
     "metadata": {},
     "output_type": "execute_result"
    }
   ],
   "source": [
    "poly.subs(x=4).factor()"
   ]
  },
  {
   "cell_type": "code",
   "execution_count": 1,
   "id": "056be0f4-d550-4da0-838c-e77dd7fd0adb",
   "metadata": {},
   "outputs": [
    {
     "data": {
      "text/plain": [
       "True"
      ]
     },
     "execution_count": 1,
     "metadata": {},
     "output_type": "execute_result"
    }
   ],
   "source": [
    "1**2 % 1 != 1"
   ]
  },
  {
   "cell_type": "code",
   "execution_count": 2,
   "id": "dd7f3983-7e37-422d-88bf-4a069f9c4616",
   "metadata": {},
   "outputs": [
    {
     "data": {
      "text/plain": [
       "0"
      ]
     },
     "execution_count": 2,
     "metadata": {},
     "output_type": "execute_result"
    }
   ],
   "source": [
    "1%1"
   ]
  },
  {
   "cell_type": "code",
   "execution_count": null,
   "id": "78f5a647-2a1d-4c97-bdd6-dad126ef5aa8",
   "metadata": {},
   "outputs": [],
   "source": []
  }
 ],
 "metadata": {
  "kernelspec": {
   "display_name": "SageMath 10.4",
   "language": "sage",
   "name": "sagemath"
  },
  "language_info": {
   "codemirror_mode": {
    "name": "ipython",
    "version": 3
   },
   "file_extension": ".py",
   "mimetype": "text/x-python",
   "name": "python",
   "nbconvert_exporter": "python",
   "pygments_lexer": "ipython3",
   "version": "3.9.20"
  }
 },
 "nbformat": 4,
 "nbformat_minor": 5
}
