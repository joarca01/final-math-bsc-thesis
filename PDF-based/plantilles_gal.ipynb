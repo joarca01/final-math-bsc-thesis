{
 "cells": [
  {
   "cell_type": "code",
   "execution_count": 295,
   "id": "a7d8c8f7",
   "metadata": {},
   "outputs": [],
   "source": [
    "%run utils.ipynb\n",
    "from sage.all import CyclotomicField\n",
    "\n",
    "# Comprovar que totes les funcions de utils.ipynb s'utilitzin en aquest fitxer i que totes les keys del diccionari s'utilitzin a la plantilla tex.\n",
    "# Quines funcions del programa ciclotòmic no s'usen?\n",
    "\n",
    "def ap_gal(l,k):\n",
    "    \n",
    "    if gcd(l,k) != 1:\n",
    "        raise ValueError(\"The arithmetic progession considered does not have infinitely many primes since \" + \"gcd(\"+str(l)+\",\"+str(k)+\")\" + \" is not 1.\")\n",
    "    if l>k:\n",
    "        raise ValueError(\"The arithmetic progession considered is equivalent to the progression \" + str(k) + \"n+\" + str(l%k) + \", n>0. To view the proof, try this one instead.\") \n",
    "    if l**2 % k != 1:\n",
    "        raise ValueError(\"The arithmetic progession considered does have infinitely many primes. However, a proof using basic Galois Theory does not exist since \" + str(l) + \"^2=\"  + str(l**2) + \" is not congruent to 1 (mod \" + str(k) + \").\") \n",
    "    if k == 1:\n",
    "        print(\"The arithmetic progession considered does have infinitely many primes, but it is a degenerate case. Compile the file 'proof_mod1.tex' to see an Euclidean proof.\")\n",
    "        return\n",
    "    if k == 2:\n",
    "        print(\"The arithmetic progession considered does have infinitely many primes, but it is a degenerate case. Compile the file 'proof_mod2.tex' to see an Euclidean proof.\")\n",
    "        return\n",
    "    if k == 3:\n",
    "        print(\"The arithmetic progession considered does have infinitely many primes, but it is a degenerate case. Compile the file 'proof_mod3.tex' to see an Euclidean proof.\")\n",
    "        return\n",
    "    if k == 4:\n",
    "        print(\"The arithmetic progession considered does have infinitely many primes, but it is a degenerate case. Compile the file 'proof_mod4.tex' to see an Euclidean proof.\")\n",
    "        return\n",
    "    if k == 6:\n",
    "        print(\"The arithmetic progession considered does have infinitely many primes, but it is a degenerate case. Compile the file 'proof_mod6.tex' to see an Euclidean proof.\")\n",
    "        return\n",
    "    \n",
    "    if l%k != 1:\n",
    "        d = {}\n",
    "        d['k'] = k\n",
    "        d['1mesell'] = 1+l\n",
    "        d['ell'] = l\n",
    "        d['eulersphi_k'] = euler_phi(k)\n",
    "        d['coprimes_list'] = coprimes(k)\n",
    "        remove_set = {1, l} \n",
    "        d['G_minus_H'] = [num for num in d['coprimes_list'] if num not in remove_set]\n",
    "        d['prime_example'] = d['G_minus_H'][0]\n",
    "        d['ell_times_prime_example'] = l*d['prime_example']\n",
    "        d['1mesell_times_prime_example'] = d['1mesell']*d['prime_example']\n",
    "        d['primes_div_k_list'] = prime_divisors(k)\n",
    "        #d['coprimes_cong1modk_list'] = cong_modk(d['coprimes_list'],k,1)\n",
    "        #d['coprimes_congellmodk_list'] = cong_modk(d['coprimes_list'],k,l)\n",
    "        d['coset_reps_list'] = coset_reps(d['coprimes_list'],l,k)\n",
    "        d['num_coset_reps'] = len(d['coset_reps_list'])\n",
    "        d['deg_ext'] = d['eulersphi_k']/d['num_coset_reps']\n",
    "    \n",
    "        u = k*1\n",
    "        d['f_polynomial_roots_list'] = f_polynomial_roots(l,k,u,d['coset_reps_list'])\n",
    "        multiple = 2\n",
    "        while len(d['f_polynomial_roots_list']) != len(set(d['f_polynomial_roots_list'])):\n",
    "            u = k*multiple\n",
    "            d['f_polynomial_roots_list'] =  f_polynomial_roots(l,k,u,d['coset_reps_list'])\n",
    "            multiple += 1\n",
    "        d['u'] = u\n",
    "        \n",
    "        d['poly'] = polynomial(d['f_polynomial_roots_list'])\n",
    "        d['discriminant'] = d['poly'].discriminant()\n",
    "        d['factor_discriminant'] = factor(d['discriminant'])\n",
    "        d['indep_coef_f'] = d['poly'].subs(x=0)\n",
    "        d['factor_indep_coef_f'] = factor(d['indep_coef_f'])\n",
    "        \n",
    "        d['primer_primer'] = find_prime(l,k,d['discriminant'])\n",
    "        d['valor_b'] = find_b_value(d['poly'], d['primer_primer'])\n",
    "        d['f_at_b'] = d['poly'].subs(x=d['valor_b'])\n",
    "        d['f_at_b_red'] = d['f_at_b'] % d['primer_primer']^2\n",
    "        d['prime_divisors_disc_list'] = prime_divisors(d['discriminant'])\n",
    "        if d['prime_divisors_disc_list'] == []:\n",
    "            d['prime_divisors_disc_list'] = [1]\n",
    "        d['p_exclusions_list'] = list(set(d['prime_divisors_disc_list'] + d['primes_div_k_list']))\n",
    "        d['prod_prime_div_disc'] = prod(d['prime_divisors_disc_list'])\n",
    "        \n",
    "        d['cyclotomic_roots_list'] = cyclotomic_roots(k) # Crec que no s'utilitza.\n",
    "        d['cyclotomic_polynomial'] = cyclotomic_polynomial(k)\n",
    "        d['discriminant_cyclotomic'] = d['cyclotomic_polynomial'].discriminant()\n",
    "        d['factor_discriminant_cyclo'] = factor(d['discriminant_cyclotomic']) \n",
    "        d['indep_coef_cyclotomic'] = d['cyclotomic_polynomial'].subs(x=0)\n",
    "    \n",
    "        d['dividend_check'] = dividend_check(l,k,u,d['prime_example'])\n",
    "        d['quocient'], d['residue'] = d['dividend_check'].quo_rem(d['cyclotomic_polynomial'])\n",
    "    \n",
    "        # To be removed\n",
    "        for ky, val in d.items():\n",
    "                if type(val) == list:\n",
    "                    show(str(latex(val))[6:-7])\n",
    "                else:\n",
    "                   show(latex(val))\n",
    "        \n",
    "        from pathlib import Path\n",
    "        plantilla = Path('plantilla_gal.tex').read_text()\n",
    "        \n",
    "        sortida = subst_dictionary(plantilla,d)\n",
    "        with open('proof_gal.tex','w') as f:\n",
    "            f.write(sortida)\n",
    "        print(\"The file 'proof_gal.tex' has been created and saved to the current path. To view the proof, compile this file with your preferred LaTex compiler.\\n Remember that the file 'references.bib' also needs to be in the path for the bibliography to be displayed correctly.\")\n",
    "        return \n",
    "        \n",
    "    if l%k == 1:\n",
    "\n",
    "        d = {}\n",
    "        d['k'] = k\n",
    "        #d['1mesell'] = 1+l\n",
    "        d['ell'] = l\n",
    "        d['eulersphi_k'] = euler_phi(k)\n",
    "        d['coprimes_list'] = coprimes(k)\n",
    "        #remove_set = {1, l} \n",
    "        #d['G_minus_H'] = [num for num in d['coprimes_list'] if num not in remove_set]\n",
    "        #d['prime_example'] = d['G_minus_H'][0]\n",
    "        #d['ell_times_prime_example'] = l*d['prime_example']\n",
    "        #d['1mesell_times_prime_example'] = d['1mesell']*d['prime_example']\n",
    "        d['primes_div_k_list'] = prime_divisors(k)\n",
    "        #d['coprimes_cong1modk_list'] = cong_modk(d['coprimes_list'],k,1)\n",
    "        #d['coprimes_congellmodk_list'] = cong_modk(d['coprimes_list'],k,l)\n",
    "        d['coset_reps_list'] = d['coprimes_list']\n",
    "        d['num_coset_reps'] = len(d['coset_reps_list'])\n",
    "        d['deg_ext'] = d['eulersphi_k']/d['num_coset_reps']\n",
    "    \n",
    "        d['f_polynomial_roots_list'] = f_polynomial_roots_cong1(k,d['coset_reps_list'])\n",
    "        \n",
    "        d['poly'] = polynomial(d['f_polynomial_roots_list'])\n",
    "        d['discriminant'] = d['poly'].discriminant()\n",
    "        d['factor_discriminant'] = factor(d['discriminant'])\n",
    "        #d['indep_coef_f'] = d['poly'].subs(x=0)\n",
    "        #d['factor_indep_coef_f'] = factor(d['indep_coef_f'])\n",
    "        \n",
    "        # d['primer_primer'] = find_prime(l,k,d['discriminant'])\n",
    "        # d['valor_b'] = find_b_value(d['poly'], d['primer_primer'])\n",
    "        # d['f_at_b'] = d['poly'].subs(x=d['valor_b'])\n",
    "        d['prime_divisors_disc_list'] = prime_divisors(d['discriminant'])\n",
    "        if d['prime_divisors_disc_list'] == []:\n",
    "            d['prime_divisors_disc_list'] = [1]\n",
    "        d['p_exclusions_list'] = list(set(d['prime_divisors_disc_list'] + d['primes_div_k_list']))\n",
    "        d['prod_prime_div_disc'] = prod(d['prime_divisors_disc_list'])\n",
    "        \n",
    "        #d['cyclotomic_roots_list'] = cyclotomic_roots(k) # Crec que no s'utilitza.\n",
    "        d['cyclotomic_polynomial'] = cyclotomic_polynomial(k)\n",
    "        d['discriminant_cyclotomic'] = d['cyclotomic_polynomial'].discriminant()\n",
    "        d['factor_discriminant_cyclo'] = factor(d['discriminant_cyclotomic']) \n",
    "        d['indep_coef_cyclotomic'] = d['cyclotomic_polynomial'].subs(x=0)\n",
    "\n",
    "        # To be removed\n",
    "        for ky, val in d.items():\n",
    "                if type(val) == list:\n",
    "                    show(str(latex(val))[6:-7])\n",
    "                else:\n",
    "                   show(latex(val))\n",
    "        \n",
    "        \n",
    "        from pathlib import Path\n",
    "        plantilla = Path('plantilla_lcong1_gal.tex').read_text()\n",
    "    \n",
    "        sortida = subst_dictionary(plantilla,d)\n",
    "        with open('proof_lcong1_gal.tex','w') as f:\n",
    "            f.write(sortida)\n",
    "        print(\"The file 'proof_lcong1_gal.tex' has been created and saved to the current path. To view the proof, compile this file with your preferred LaTex compiler.\\n Remember that the file 'references.bib' also needs to be in the path for the bibliography to be displayed correctly.\")\n",
    "        return"
   ]
  },
  {
   "cell_type": "code",
   "execution_count": 296,
   "id": "3e70fd68-d662-4b9e-b568-c71e95d5d49d",
   "metadata": {},
   "outputs": [
    {
     "data": {
      "text/html": [
       "<html>\\(\\displaystyle 15\\)</html>"
      ],
      "text/latex": [
       "$\\displaystyle 15$"
      ],
      "text/plain": [
       "15"
      ]
     },
     "metadata": {},
     "output_type": "display_data"
    },
    {
     "data": {
      "text/html": [
       "<html>\\(\\displaystyle 1\\)</html>"
      ],
      "text/latex": [
       "$\\displaystyle 1$"
      ],
      "text/plain": [
       "1"
      ]
     },
     "metadata": {},
     "output_type": "display_data"
    },
    {
     "data": {
      "text/html": [
       "<html>\\(\\displaystyle 8\\)</html>"
      ],
      "text/latex": [
       "$\\displaystyle 8$"
      ],
      "text/plain": [
       "8"
      ]
     },
     "metadata": {},
     "output_type": "display_data"
    },
    {
     "data": {
      "text/html": [
       "<html>\\(\\displaystyle \\verb|1,|\\verb| |\\verb|2,|\\verb| |\\verb|4,|\\verb| |\\verb|7,|\\verb| |\\verb|8,|\\verb| |\\verb|11,|\\verb| |\\verb|13,|\\verb| |\\verb|14|\\)</html>"
      ],
      "text/latex": [
       "$\\displaystyle \\verb|1,|\\verb| |\\verb|2,|\\verb| |\\verb|4,|\\verb| |\\verb|7,|\\verb| |\\verb|8,|\\verb| |\\verb|11,|\\verb| |\\verb|13,|\\verb| |\\verb|14|$"
      ],
      "text/plain": [
       "'1, 2, 4, 7, 8, 11, 13, 14'"
      ]
     },
     "metadata": {},
     "output_type": "display_data"
    },
    {
     "data": {
      "text/html": [
       "<html>\\(\\displaystyle \\verb|3,|\\verb| |\\verb|5|\\)</html>"
      ],
      "text/latex": [
       "$\\displaystyle \\verb|3,|\\verb| |\\verb|5|$"
      ],
      "text/plain": [
       "'3, 5'"
      ]
     },
     "metadata": {},
     "output_type": "display_data"
    },
    {
     "data": {
      "text/html": [
       "<html>\\(\\displaystyle \\verb|1,|\\verb| |\\verb|2,|\\verb| |\\verb|4,|\\verb| |\\verb|7,|\\verb| |\\verb|8,|\\verb| |\\verb|11,|\\verb| |\\verb|13,|\\verb| |\\verb|14|\\)</html>"
      ],
      "text/latex": [
       "$\\displaystyle \\verb|1,|\\verb| |\\verb|2,|\\verb| |\\verb|4,|\\verb| |\\verb|7,|\\verb| |\\verb|8,|\\verb| |\\verb|11,|\\verb| |\\verb|13,|\\verb| |\\verb|14|$"
      ],
      "text/plain": [
       "'1, 2, 4, 7, 8, 11, 13, 14'"
      ]
     },
     "metadata": {},
     "output_type": "display_data"
    },
    {
     "data": {
      "text/html": [
       "<html>\\(\\displaystyle 8\\)</html>"
      ],
      "text/latex": [
       "$\\displaystyle 8$"
      ],
      "text/plain": [
       "8"
      ]
     },
     "metadata": {},
     "output_type": "display_data"
    },
    {
     "data": {
      "text/html": [
       "<html>\\(\\displaystyle 1\\)</html>"
      ],
      "text/latex": [
       "$\\displaystyle 1$"
      ],
      "text/plain": [
       "1"
      ]
     },
     "metadata": {},
     "output_type": "display_data"
    },
    {
     "data": {
      "text/html": [
       "<html>\\(\\displaystyle \\verb|ζ,|\\verb| |\\verb|ζ^{2},|\\verb| |\\verb|ζ^{4},|\\verb| |\\verb|ζ^{7},|\\verb| |\\verb|ζ^{7}|\\verb| |\\verb|-|\\verb| |\\verb|ζ^{5}|\\verb| |\\verb|+|\\verb| |\\verb|ζ^{4}|\\verb| |\\verb|-|\\verb| |\\verb|ζ^{3}|\\verb| |\\verb|+|\\verb| |\\verb|ζ|\\verb| |\\verb|-|\\verb| |\\verb|1,|\\verb| |\\verb|-ζ^{6}|\\verb| |\\verb|-|\\verb| |\\verb|ζ,|\\verb| |\\verb|-ζ^{7}|\\verb| |\\verb|+|\\verb| |\\verb|ζ^{5}|\\verb| |\\verb|-|\\verb| |\\verb|ζ^{4}|\\verb| |\\verb|-|\\verb| |\\verb|ζ|\\verb| |\\verb|+|\\verb| |\\verb|1,|\\verb| |\\verb|-ζ^{7}|\\verb| |\\verb|+|\\verb| |\\verb|ζ^{6}|\\verb| |\\verb|-|\\verb| |\\verb|ζ^{4}|\\verb| |\\verb|+|\\verb| |\\verb|ζ^{3}|\\verb| |\\verb|-|\\verb| |\\verb|ζ^{2}|\\verb| |\\verb|+|\\verb| |\\verb|1|\\)</html>"
      ],
      "text/latex": [
       "$\\displaystyle \\verb|ζ,|\\verb| |\\verb|ζ^{2},|\\verb| |\\verb|ζ^{4},|\\verb| |\\verb|ζ^{7},|\\verb| |\\verb|ζ^{7}|\\verb| |\\verb|-|\\verb| |\\verb|ζ^{5}|\\verb| |\\verb|+|\\verb| |\\verb|ζ^{4}|\\verb| |\\verb|-|\\verb| |\\verb|ζ^{3}|\\verb| |\\verb|+|\\verb| |\\verb|ζ|\\verb| |\\verb|-|\\verb| |\\verb|1,|\\verb| |\\verb|-ζ^{6}|\\verb| |\\verb|-|\\verb| |\\verb|ζ,|\\verb| |\\verb|-ζ^{7}|\\verb| |\\verb|+|\\verb| |\\verb|ζ^{5}|\\verb| |\\verb|-|\\verb| |\\verb|ζ^{4}|\\verb| |\\verb|-|\\verb| |\\verb|ζ|\\verb| |\\verb|+|\\verb| |\\verb|1,|\\verb| |\\verb|-ζ^{7}|\\verb| |\\verb|+|\\verb| |\\verb|ζ^{6}|\\verb| |\\verb|-|\\verb| |\\verb|ζ^{4}|\\verb| |\\verb|+|\\verb| |\\verb|ζ^{3}|\\verb| |\\verb|-|\\verb| |\\verb|ζ^{2}|\\verb| |\\verb|+|\\verb| |\\verb|1|$"
      ],
      "text/plain": [
       "'ζ, ζ^{2}, ζ^{4}, ζ^{7}, ζ^{7} - ζ^{5} + ζ^{4} - ζ^{3} + ζ - 1, -ζ^{6} - ζ, -ζ^{7} + ζ^{5} - ζ^{4} - ζ + 1, -ζ^{7} + ζ^{6} - ζ^{4} + ζ^{3} - ζ^{2} + 1'"
      ]
     },
     "metadata": {},
     "output_type": "display_data"
    },
    {
     "data": {
      "text/html": [
       "<html>\\(\\displaystyle x^{8} - x^{7} + x^{5} - x^{4} + x^{3} - x + 1\\)</html>"
      ],
      "text/latex": [
       "$\\displaystyle x^{8} - x^{7} + x^{5} - x^{4} + x^{3} - x + 1$"
      ],
      "text/plain": [
       "x^{8} - x^{7} + x^{5} - x^{4} + x^{3} - x + 1"
      ]
     },
     "metadata": {},
     "output_type": "display_data"
    },
    {
     "data": {
      "text/html": [
       "<html>\\(\\displaystyle 1265625\\)</html>"
      ],
      "text/latex": [
       "$\\displaystyle 1265625$"
      ],
      "text/plain": [
       "1265625"
      ]
     },
     "metadata": {},
     "output_type": "display_data"
    },
    {
     "data": {
      "text/html": [
       "<html>\\(\\displaystyle \\verb|3,|\\verb| |\\verb|5|\\)</html>"
      ],
      "text/latex": [
       "$\\displaystyle \\verb|3,|\\verb| |\\verb|5|$"
      ],
      "text/plain": [
       "'3, 5'"
      ]
     },
     "metadata": {},
     "output_type": "display_data"
    },
    {
     "data": {
      "text/html": [
       "<html>\\(\\displaystyle 15\\)</html>"
      ],
      "text/latex": [
       "$\\displaystyle 15$"
      ],
      "text/plain": [
       "15"
      ]
     },
     "metadata": {},
     "output_type": "display_data"
    },
    {
     "data": {
      "text/html": [
       "<html>\\(\\displaystyle x^{8} - x^{7} + x^{5} - x^{4} + x^{3} - x + 1\\)</html>"
      ],
      "text/latex": [
       "$\\displaystyle x^{8} - x^{7} + x^{5} - x^{4} + x^{3} - x + 1$"
      ],
      "text/plain": [
       "x^{8} - x^{7} + x^{5} - x^{4} + x^{3} - x + 1"
      ]
     },
     "metadata": {},
     "output_type": "display_data"
    },
    {
     "data": {
      "text/html": [
       "<html>\\(\\displaystyle 1265625\\)</html>"
      ],
      "text/latex": [
       "$\\displaystyle 1265625$"
      ],
      "text/plain": [
       "1265625"
      ]
     },
     "metadata": {},
     "output_type": "display_data"
    },
    {
     "data": {
      "text/html": [
       "<html>\\(\\displaystyle 3^{4} \\cdot 5^{6}\\)</html>"
      ],
      "text/latex": [
       "$\\displaystyle 3^{4} \\cdot 5^{6}$"
      ],
      "text/plain": [
       "3^{4} \\cdot 5^{6}"
      ]
     },
     "metadata": {},
     "output_type": "display_data"
    },
    {
     "data": {
      "text/html": [
       "<html>\\(\\displaystyle 1\\)</html>"
      ],
      "text/latex": [
       "$\\displaystyle 1$"
      ],
      "text/plain": [
       "1"
      ]
     },
     "metadata": {},
     "output_type": "display_data"
    },
    {
     "name": "stdout",
     "output_type": "stream",
     "text": [
      "The file 'proof_lcong1_gal.tex' has been created and saved to the current path. To view the proof, compile this file with your preferred LaTex compiler.\n",
      " Remember that the file 'references.bib' also needs to be in the path for the bibliography to be displayed correctly.\n"
     ]
    }
   ],
   "source": [
    "ap_gal(1,15)"
   ]
  },
  {
   "cell_type": "code",
   "execution_count": null,
   "id": "3bb32af3-2577-4ba4-97a0-f15bd2dfed96",
   "metadata": {},
   "outputs": [],
   "source": []
  }
 ],
 "metadata": {
  "kernelspec": {
   "display_name": "SageMath 10.4",
   "language": "sage",
   "name": "sagemath"
  },
  "language_info": {
   "codemirror_mode": {
    "name": "ipython",
    "version": 3
   },
   "file_extension": ".py",
   "mimetype": "text/x-python",
   "name": "python",
   "nbconvert_exporter": "python",
   "pygments_lexer": "ipython3",
   "version": "3.9.20"
  }
 },
 "nbformat": 4,
 "nbformat_minor": 5
}
